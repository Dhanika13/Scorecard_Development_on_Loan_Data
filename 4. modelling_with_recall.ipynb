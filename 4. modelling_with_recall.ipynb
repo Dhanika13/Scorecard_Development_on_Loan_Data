{
 "cells": [
  {
   "cell_type": "code",
   "execution_count": 1,
   "metadata": {},
   "outputs": [],
   "source": [
    "import numpy as np \n",
    "import pandas as pd \n",
    "\n",
    "import matplotlib.pyplot as plt \n",
    "import seaborn as sns"
   ]
  },
  {
   "cell_type": "markdown",
   "metadata": {},
   "source": [
    "# **5. Modelling**\n",
    "---"
   ]
  },
  {
   "cell_type": "markdown",
   "metadata": {},
   "source": [
    "### **5.1 Load Data**\n",
    "---"
   ]
  },
  {
   "cell_type": "code",
   "execution_count": 2,
   "metadata": {},
   "outputs": [
    {
     "data": {
      "text/html": [
       "<div>\n",
       "<style scoped>\n",
       "    .dataframe tbody tr th:only-of-type {\n",
       "        vertical-align: middle;\n",
       "    }\n",
       "\n",
       "    .dataframe tbody tr th {\n",
       "        vertical-align: top;\n",
       "    }\n",
       "\n",
       "    .dataframe thead th {\n",
       "        text-align: right;\n",
       "    }\n",
       "</style>\n",
       "<table border=\"1\" class=\"dataframe\">\n",
       "  <thead>\n",
       "    <tr style=\"text-align: right;\">\n",
       "      <th></th>\n",
       "      <th>0</th>\n",
       "      <th>1</th>\n",
       "      <th>2</th>\n",
       "      <th>3</th>\n",
       "      <th>4</th>\n",
       "    </tr>\n",
       "  </thead>\n",
       "  <tbody>\n",
       "    <tr>\n",
       "      <th>grade</th>\n",
       "      <td>-0.634544</td>\n",
       "      <td>-0.297893</td>\n",
       "      <td>-0.634544</td>\n",
       "      <td>-0.634544</td>\n",
       "      <td>1.016962</td>\n",
       "    </tr>\n",
       "    <tr>\n",
       "      <th>home_ownership</th>\n",
       "      <td>-0.193928</td>\n",
       "      <td>-0.193928</td>\n",
       "      <td>-0.193928</td>\n",
       "      <td>-0.193928</td>\n",
       "      <td>-0.193928</td>\n",
       "    </tr>\n",
       "    <tr>\n",
       "      <th>verification_status</th>\n",
       "      <td>0.193203</td>\n",
       "      <td>-0.183572</td>\n",
       "      <td>-0.183572</td>\n",
       "      <td>-0.183572</td>\n",
       "      <td>-0.012694</td>\n",
       "    </tr>\n",
       "    <tr>\n",
       "      <th>loan_status</th>\n",
       "      <td>1.000000</td>\n",
       "      <td>0.000000</td>\n",
       "      <td>0.000000</td>\n",
       "      <td>0.000000</td>\n",
       "      <td>0.000000</td>\n",
       "    </tr>\n",
       "    <tr>\n",
       "      <th>purpose</th>\n",
       "      <td>0.202815</td>\n",
       "      <td>-0.050903</td>\n",
       "      <td>-0.373146</td>\n",
       "      <td>-0.050903</td>\n",
       "      <td>0.202815</td>\n",
       "    </tr>\n",
       "    <tr>\n",
       "      <th>addr_state</th>\n",
       "      <td>-0.028116</td>\n",
       "      <td>0.234365</td>\n",
       "      <td>0.308881</td>\n",
       "      <td>-0.101511</td>\n",
       "      <td>0.219635</td>\n",
       "    </tr>\n",
       "    <tr>\n",
       "      <th>delinq_2yrs</th>\n",
       "      <td>0.019668</td>\n",
       "      <td>0.019668</td>\n",
       "      <td>0.019668</td>\n",
       "      <td>0.019668</td>\n",
       "      <td>0.019668</td>\n",
       "    </tr>\n",
       "    <tr>\n",
       "      <th>pub_rec</th>\n",
       "      <td>-0.178607</td>\n",
       "      <td>0.037516</td>\n",
       "      <td>0.037516</td>\n",
       "      <td>0.037516</td>\n",
       "      <td>0.037516</td>\n",
       "    </tr>\n",
       "    <tr>\n",
       "      <th>initial_list_status</th>\n",
       "      <td>0.071732</td>\n",
       "      <td>0.071732</td>\n",
       "      <td>0.071732</td>\n",
       "      <td>-0.054248</td>\n",
       "      <td>0.071732</td>\n",
       "    </tr>\n",
       "    <tr>\n",
       "      <th>application_type</th>\n",
       "      <td>0.000037</td>\n",
       "      <td>0.000037</td>\n",
       "      <td>0.000037</td>\n",
       "      <td>0.000037</td>\n",
       "      <td>0.000037</td>\n",
       "    </tr>\n",
       "    <tr>\n",
       "      <th>mort_acc</th>\n",
       "      <td>-0.219543</td>\n",
       "      <td>-0.219543</td>\n",
       "      <td>-0.219543</td>\n",
       "      <td>-0.219543</td>\n",
       "      <td>-0.219543</td>\n",
       "    </tr>\n",
       "    <tr>\n",
       "      <th>pub_rec_bankruptcies</th>\n",
       "      <td>-0.182476</td>\n",
       "      <td>0.029559</td>\n",
       "      <td>0.029559</td>\n",
       "      <td>0.029559</td>\n",
       "      <td>0.029559</td>\n",
       "    </tr>\n",
       "    <tr>\n",
       "      <th>annual_inc_bin</th>\n",
       "      <td>-0.323845</td>\n",
       "      <td>-0.323845</td>\n",
       "      <td>-0.071251</td>\n",
       "      <td>-0.071251</td>\n",
       "      <td>0.124112</td>\n",
       "    </tr>\n",
       "    <tr>\n",
       "      <th>loan_amnt_bin</th>\n",
       "      <td>-0.073390</td>\n",
       "      <td>-0.036244</td>\n",
       "      <td>-0.036244</td>\n",
       "      <td>0.098085</td>\n",
       "      <td>0.023912</td>\n",
       "    </tr>\n",
       "    <tr>\n",
       "      <th>int_rate_bin</th>\n",
       "      <td>-0.603321</td>\n",
       "      <td>-0.163967</td>\n",
       "      <td>-0.603321</td>\n",
       "      <td>-0.603321</td>\n",
       "      <td>0.947130</td>\n",
       "    </tr>\n",
       "    <tr>\n",
       "      <th>dti_bin</th>\n",
       "      <td>-0.039921</td>\n",
       "      <td>-0.305500</td>\n",
       "      <td>0.138738</td>\n",
       "      <td>0.138738</td>\n",
       "      <td>-0.039921</td>\n",
       "    </tr>\n",
       "    <tr>\n",
       "      <th>fico_range_low_bin</th>\n",
       "      <td>-0.349885</td>\n",
       "      <td>-0.136643</td>\n",
       "      <td>-0.349885</td>\n",
       "      <td>-0.349885</td>\n",
       "      <td>0.153649</td>\n",
       "    </tr>\n",
       "    <tr>\n",
       "      <th>open_acc_bin</th>\n",
       "      <td>-0.016127</td>\n",
       "      <td>-0.016127</td>\n",
       "      <td>0.042162</td>\n",
       "      <td>0.042162</td>\n",
       "      <td>-0.016127</td>\n",
       "    </tr>\n",
       "    <tr>\n",
       "      <th>revol_util_bin</th>\n",
       "      <td>-0.060890</td>\n",
       "      <td>0.009147</td>\n",
       "      <td>0.196816</td>\n",
       "      <td>-0.124676</td>\n",
       "      <td>-0.060890</td>\n",
       "    </tr>\n",
       "    <tr>\n",
       "      <th>num_bc_tl_bin</th>\n",
       "      <td>0.044806</td>\n",
       "      <td>0.034428</td>\n",
       "      <td>-0.085113</td>\n",
       "      <td>0.010028</td>\n",
       "      <td>0.034428</td>\n",
       "    </tr>\n",
       "    <tr>\n",
       "      <th>num_il_tl_bin</th>\n",
       "      <td>-0.080414</td>\n",
       "      <td>-0.080414</td>\n",
       "      <td>0.002854</td>\n",
       "      <td>-0.080414</td>\n",
       "      <td>0.036565</td>\n",
       "    </tr>\n",
       "    <tr>\n",
       "      <th>num_op_rev_tl_bin</th>\n",
       "      <td>-0.108861</td>\n",
       "      <td>-0.108861</td>\n",
       "      <td>0.076378</td>\n",
       "      <td>0.076378</td>\n",
       "      <td>-0.108861</td>\n",
       "    </tr>\n",
       "    <tr>\n",
       "      <th>num_rev_accts_bin</th>\n",
       "      <td>0.019667</td>\n",
       "      <td>0.019667</td>\n",
       "      <td>-0.051445</td>\n",
       "      <td>-0.051445</td>\n",
       "      <td>0.019667</td>\n",
       "    </tr>\n",
       "    <tr>\n",
       "      <th>num_rev_tl_bal_gt_0_bin</th>\n",
       "      <td>-0.217305</td>\n",
       "      <td>-0.217305</td>\n",
       "      <td>0.187402</td>\n",
       "      <td>0.046286</td>\n",
       "      <td>-0.217305</td>\n",
       "    </tr>\n",
       "    <tr>\n",
       "      <th>mo_sin_old_il_acct_bin</th>\n",
       "      <td>-0.192445</td>\n",
       "      <td>-0.192445</td>\n",
       "      <td>-0.192445</td>\n",
       "      <td>-0.192445</td>\n",
       "      <td>0.106960</td>\n",
       "    </tr>\n",
       "    <tr>\n",
       "      <th>mo_sin_old_rev_tl_op_bin</th>\n",
       "      <td>0.218125</td>\n",
       "      <td>-0.027694</td>\n",
       "      <td>-0.253052</td>\n",
       "      <td>-0.253052</td>\n",
       "      <td>0.081965</td>\n",
       "    </tr>\n",
       "    <tr>\n",
       "      <th>revol_bal_bin</th>\n",
       "      <td>0.000561</td>\n",
       "      <td>0.000561</td>\n",
       "      <td>-0.107512</td>\n",
       "      <td>0.199085</td>\n",
       "      <td>0.199085</td>\n",
       "    </tr>\n",
       "    <tr>\n",
       "      <th>emp_length_bin</th>\n",
       "      <td>-0.024947</td>\n",
       "      <td>-0.475502</td>\n",
       "      <td>-0.024947</td>\n",
       "      <td>-0.024947</td>\n",
       "      <td>0.084130</td>\n",
       "    </tr>\n",
       "  </tbody>\n",
       "</table>\n",
       "</div>"
      ],
      "text/plain": [
       "                                 0         1         2         3         4\n",
       "grade                    -0.634544 -0.297893 -0.634544 -0.634544  1.016962\n",
       "home_ownership           -0.193928 -0.193928 -0.193928 -0.193928 -0.193928\n",
       "verification_status       0.193203 -0.183572 -0.183572 -0.183572 -0.012694\n",
       "loan_status               1.000000  0.000000  0.000000  0.000000  0.000000\n",
       "purpose                   0.202815 -0.050903 -0.373146 -0.050903  0.202815\n",
       "addr_state               -0.028116  0.234365  0.308881 -0.101511  0.219635\n",
       "delinq_2yrs               0.019668  0.019668  0.019668  0.019668  0.019668\n",
       "pub_rec                  -0.178607  0.037516  0.037516  0.037516  0.037516\n",
       "initial_list_status       0.071732  0.071732  0.071732 -0.054248  0.071732\n",
       "application_type          0.000037  0.000037  0.000037  0.000037  0.000037\n",
       "mort_acc                 -0.219543 -0.219543 -0.219543 -0.219543 -0.219543\n",
       "pub_rec_bankruptcies     -0.182476  0.029559  0.029559  0.029559  0.029559\n",
       "annual_inc_bin           -0.323845 -0.323845 -0.071251 -0.071251  0.124112\n",
       "loan_amnt_bin            -0.073390 -0.036244 -0.036244  0.098085  0.023912\n",
       "int_rate_bin             -0.603321 -0.163967 -0.603321 -0.603321  0.947130\n",
       "dti_bin                  -0.039921 -0.305500  0.138738  0.138738 -0.039921\n",
       "fico_range_low_bin       -0.349885 -0.136643 -0.349885 -0.349885  0.153649\n",
       "open_acc_bin             -0.016127 -0.016127  0.042162  0.042162 -0.016127\n",
       "revol_util_bin           -0.060890  0.009147  0.196816 -0.124676 -0.060890\n",
       "num_bc_tl_bin             0.044806  0.034428 -0.085113  0.010028  0.034428\n",
       "num_il_tl_bin            -0.080414 -0.080414  0.002854 -0.080414  0.036565\n",
       "num_op_rev_tl_bin        -0.108861 -0.108861  0.076378  0.076378 -0.108861\n",
       "num_rev_accts_bin         0.019667  0.019667 -0.051445 -0.051445  0.019667\n",
       "num_rev_tl_bal_gt_0_bin  -0.217305 -0.217305  0.187402  0.046286 -0.217305\n",
       "mo_sin_old_il_acct_bin   -0.192445 -0.192445 -0.192445 -0.192445  0.106960\n",
       "mo_sin_old_rev_tl_op_bin  0.218125 -0.027694 -0.253052 -0.253052  0.081965\n",
       "revol_bal_bin             0.000561  0.000561 -0.107512  0.199085  0.199085\n",
       "emp_length_bin           -0.024947 -0.475502 -0.024947 -0.024947  0.084130"
      ]
     },
     "metadata": {},
     "output_type": "display_data"
    }
   ],
   "source": [
    "# Import dataset\n",
    "data_train = pd.read_csv('train_model.csv')\n",
    "\n",
    "# Data check\n",
    "with pd.option_context('display.max_rows', 1000):\n",
    "    display(data_train.head().T)"
   ]
  },
  {
   "cell_type": "code",
   "execution_count": 3,
   "metadata": {},
   "outputs": [],
   "source": [
    "# Define  X and y from training set\n",
    "y_train_woe = data_train['loan_status']\n",
    "X_train_woe = data_train.drop(columns='loan_status', axis=1)"
   ]
  },
  {
   "cell_type": "code",
   "execution_count": 4,
   "metadata": {},
   "outputs": [],
   "source": [
    "# Convert X and y into numpy array\n",
    "X_train = X_train_woe.to_numpy()\n",
    "y_train = y_train_woe.to_numpy()"
   ]
  },
  {
   "cell_type": "markdown",
   "metadata": {},
   "source": [
    "### **5.2 Forward Selection**\n",
    "---"
   ]
  },
  {
   "cell_type": "code",
   "execution_count": 5,
   "metadata": {},
   "outputs": [],
   "source": [
    "# Import library\n",
    "from sklearn.model_selection import cross_validate\n",
    "from sklearn.linear_model import LogisticRegression"
   ]
  },
  {
   "cell_type": "markdown",
   "metadata": {},
   "source": [
    "Define function to fit a model and calculate its recall score."
   ]
  },
  {
   "cell_type": "code",
   "execution_count": 6,
   "metadata": {},
   "outputs": [],
   "source": [
    "def forward(X, y, predictors, scoring='roc_auc', cv=5):\n",
    "    \"\"\"\n",
    "    Function to perform best subset selection procedure.\n",
    "\n",
    "    Parameters\n",
    "    ----------\n",
    "    X : {array-like} of shape (n_sample, n_predictors)\n",
    "      All predictors set.\n",
    "\n",
    "    y : {array-like} of shape (n_sample, )\n",
    "      The dependent or response variable.\n",
    "\n",
    "    predictors : {array-like} of shape (n_sample, )\n",
    "      Index of predictors\n",
    "\n",
    "    scoring : a single {str}, default='roc_auc'\n",
    "      The scoring parameter based on scikit-learn cross_validate documentation.\n",
    "\n",
    "    cv : int, default=5\n",
    "      Number of folds for k-Fold CV.\n",
    "\n",
    "    Returns\n",
    "    -------\n",
    "    models : {array-like} of shape (n_combinations, k)\n",
    "      Summary of predictors and its AIC score for each possible combination.\n",
    "\n",
    "    best_model : {array-like} of shape (2, )\n",
    "      Best model of models with the smallest AIC score.\n",
    "    \"\"\"\n",
    "\n",
    "    # Initialize list of results\n",
    "    results = []\n",
    "\n",
    "    # Define sample size and  number of all predictors\n",
    "    n_samples, n_predictors = X.shape\n",
    "\n",
    "    # Define list of all predictors\n",
    "    col_list = np.arange(n_predictors)\n",
    "\n",
    "    # Define remaining predictors for each k\n",
    "    remaining_predictors = [p for p in col_list if p not in predictors]\n",
    "\n",
    "    # Initialize list of predictors and its CV Score\n",
    "    pred_list = []\n",
    "    score_list = []\n",
    "\n",
    "    # Cross validate each possible combination of remaining predictors\n",
    "    for p in remaining_predictors:\n",
    "        combi = predictors + [p]\n",
    "\n",
    "        # Extract predictors combination\n",
    "        X_ = X[:, combi]\n",
    "        y_ = y\n",
    "\n",
    "        # Define the estimator\n",
    "        model = LogisticRegression(penalty = None,\n",
    "                                   class_weight = 'balanced')\n",
    "\n",
    "        # Cross validate the recall scores of the model\n",
    "        cv_results = cross_validate(estimator = model,\n",
    "                                    X = X_,\n",
    "                                    y = y_,\n",
    "                                    scoring = scoring,\n",
    "                                    cv = cv)\n",
    "\n",
    "        # Calculate the average CV/recall score\n",
    "        score_ = np.mean(cv_results['test_score'])\n",
    "\n",
    "        # Append predictors combination and its CV Score to the list\n",
    "        pred_list.append(list(combi))\n",
    "        score_list.append(score_)\n",
    "\n",
    "    # Tabulate the results\n",
    "    models = pd.DataFrame({\"Predictors\": pred_list,\n",
    "                           \"Recall\": score_list})\n",
    "\n",
    "    # Choose the best model\n",
    "    best_model = models.loc[models['Recall'].argmax()]\n",
    "\n",
    "    return models, best_model"
   ]
  },
  {
   "cell_type": "markdown",
   "metadata": {},
   "source": [
    "Check the function and fit for null model."
   ]
  },
  {
   "cell_type": "code",
   "execution_count": 7,
   "metadata": {},
   "outputs": [],
   "source": [
    "# Define predictor for the null model\n",
    "predictor = []\n",
    "\n",
    "# The predictor in the null model is zero values for all predictors\n",
    "X_null = np.zeros((X_train.shape[0], 1))\n",
    "\n",
    "# Define the estimator\n",
    "model = LogisticRegression(penalty = None,\n",
    "                           class_weight = 'balanced')\n",
    "\n",
    "# Cross validate\n",
    "cv_results = cross_validate(estimator = model,\n",
    "                            X = X_null,\n",
    "                            y = y_train,\n",
    "                            cv = 10,\n",
    "                            scoring = 'recall')\n",
    "\n",
    "# Calculate the average CV/recall score\n",
    "score_ = np.mean(cv_results['test_score'])\n",
    "\n",
    "# Create table for the best model of each k predictors\n",
    "# Append the results of null model\n",
    "forward_models = pd.DataFrame({\"Predictors\": [predictor],\n",
    "                               \"Recall\": [score_]})"
   ]
  },
  {
   "cell_type": "code",
   "execution_count": 8,
   "metadata": {},
   "outputs": [
    {
     "data": {
      "text/html": [
       "<div>\n",
       "<style scoped>\n",
       "    .dataframe tbody tr th:only-of-type {\n",
       "        vertical-align: middle;\n",
       "    }\n",
       "\n",
       "    .dataframe tbody tr th {\n",
       "        vertical-align: top;\n",
       "    }\n",
       "\n",
       "    .dataframe thead th {\n",
       "        text-align: right;\n",
       "    }\n",
       "</style>\n",
       "<table border=\"1\" class=\"dataframe\">\n",
       "  <thead>\n",
       "    <tr style=\"text-align: right;\">\n",
       "      <th></th>\n",
       "      <th>Predictors</th>\n",
       "      <th>Recall</th>\n",
       "    </tr>\n",
       "  </thead>\n",
       "  <tbody>\n",
       "    <tr>\n",
       "      <th>0</th>\n",
       "      <td>[]</td>\n",
       "      <td>0.0</td>\n",
       "    </tr>\n",
       "  </tbody>\n",
       "</table>\n",
       "</div>"
      ],
      "text/plain": [
       "  Predictors  Recall\n",
       "0         []     0.0"
      ]
     },
     "execution_count": 8,
     "metadata": {},
     "output_type": "execute_result"
    }
   ],
   "source": [
    "forward_models"
   ]
  },
  {
   "cell_type": "markdown",
   "metadata": {},
   "source": [
    "Next, perform the forward selection procedure for k=1,...,15 predictors. We don't use all characteristics as predictors since 28 predictors is too much."
   ]
  },
  {
   "cell_type": "code",
   "execution_count": 9,
   "metadata": {},
   "outputs": [
    {
     "name": "stderr",
     "output_type": "stream",
     "text": [
      "c:\\Python310\\lib\\site-packages\\sklearn\\linear_model\\_logistic.py:460: ConvergenceWarning: lbfgs failed to converge (status=1):\n",
      "STOP: TOTAL NO. of ITERATIONS REACHED LIMIT.\n",
      "\n",
      "Increase the number of iterations (max_iter) or scale the data as shown in:\n",
      "    https://scikit-learn.org/stable/modules/preprocessing.html\n",
      "Please also refer to the documentation for alternative solver options:\n",
      "    https://scikit-learn.org/stable/modules/linear_model.html#logistic-regression\n",
      "  n_iter_i = _check_optimize_result(\n",
      "c:\\Python310\\lib\\site-packages\\sklearn\\linear_model\\_logistic.py:460: ConvergenceWarning: lbfgs failed to converge (status=1):\n",
      "STOP: TOTAL NO. of ITERATIONS REACHED LIMIT.\n",
      "\n",
      "Increase the number of iterations (max_iter) or scale the data as shown in:\n",
      "    https://scikit-learn.org/stable/modules/preprocessing.html\n",
      "Please also refer to the documentation for alternative solver options:\n",
      "    https://scikit-learn.org/stable/modules/linear_model.html#logistic-regression\n",
      "  n_iter_i = _check_optimize_result(\n"
     ]
    }
   ],
   "source": [
    "# Define list of predictors\n",
    "predictors = []\n",
    "n_predictors = X_train.shape[1]\n",
    "\n",
    "# Perform forward selection procedure for k=1,...,11 predictors\n",
    "for k in range(15):\n",
    "    _, best_model = forward(X = X_train,\n",
    "                            y = y_train,\n",
    "                            predictors = predictors,\n",
    "                            scoring = 'recall',\n",
    "                            cv = 10)\n",
    "\n",
    "    # Tabulate the best model of each k predictors\n",
    "    forward_models.loc[k+1] = best_model\n",
    "    predictors = best_model['Predictors']"
   ]
  },
  {
   "cell_type": "code",
   "execution_count": 10,
   "metadata": {},
   "outputs": [
    {
     "data": {
      "text/html": [
       "<div>\n",
       "<style scoped>\n",
       "    .dataframe tbody tr th:only-of-type {\n",
       "        vertical-align: middle;\n",
       "    }\n",
       "\n",
       "    .dataframe tbody tr th {\n",
       "        vertical-align: top;\n",
       "    }\n",
       "\n",
       "    .dataframe thead th {\n",
       "        text-align: right;\n",
       "    }\n",
       "</style>\n",
       "<table border=\"1\" class=\"dataframe\">\n",
       "  <thead>\n",
       "    <tr style=\"text-align: right;\">\n",
       "      <th></th>\n",
       "      <th>Predictors</th>\n",
       "      <th>Recall</th>\n",
       "    </tr>\n",
       "  </thead>\n",
       "  <tbody>\n",
       "    <tr>\n",
       "      <th>0</th>\n",
       "      <td>[]</td>\n",
       "      <td>0.000000</td>\n",
       "    </tr>\n",
       "    <tr>\n",
       "      <th>1</th>\n",
       "      <td>[3]</td>\n",
       "      <td>0.715162</td>\n",
       "    </tr>\n",
       "    <tr>\n",
       "      <th>2</th>\n",
       "      <td>[3, 6]</td>\n",
       "      <td>0.733474</td>\n",
       "    </tr>\n",
       "    <tr>\n",
       "      <th>3</th>\n",
       "      <td>[3, 6, 10]</td>\n",
       "      <td>0.749756</td>\n",
       "    </tr>\n",
       "    <tr>\n",
       "      <th>4</th>\n",
       "      <td>[3, 6, 10, 8]</td>\n",
       "      <td>0.749756</td>\n",
       "    </tr>\n",
       "    <tr>\n",
       "      <th>5</th>\n",
       "      <td>[3, 6, 10, 8, 13]</td>\n",
       "      <td>0.693700</td>\n",
       "    </tr>\n",
       "    <tr>\n",
       "      <th>6</th>\n",
       "      <td>[3, 6, 10, 8, 13, 26]</td>\n",
       "      <td>0.710147</td>\n",
       "    </tr>\n",
       "    <tr>\n",
       "      <th>7</th>\n",
       "      <td>[3, 6, 10, 8, 13, 26, 17]</td>\n",
       "      <td>0.708069</td>\n",
       "    </tr>\n",
       "    <tr>\n",
       "      <th>8</th>\n",
       "      <td>[3, 6, 10, 8, 13, 26, 17, 19]</td>\n",
       "      <td>0.706287</td>\n",
       "    </tr>\n",
       "    <tr>\n",
       "      <th>9</th>\n",
       "      <td>[3, 6, 10, 8, 13, 26, 17, 19, 18]</td>\n",
       "      <td>0.705231</td>\n",
       "    </tr>\n",
       "    <tr>\n",
       "      <th>10</th>\n",
       "      <td>[3, 6, 10, 8, 13, 26, 17, 19, 18, 21]</td>\n",
       "      <td>0.705099</td>\n",
       "    </tr>\n",
       "    <tr>\n",
       "      <th>11</th>\n",
       "      <td>[3, 6, 10, 8, 13, 26, 17, 19, 18, 21, 12]</td>\n",
       "      <td>0.702641</td>\n",
       "    </tr>\n",
       "    <tr>\n",
       "      <th>12</th>\n",
       "      <td>[3, 6, 10, 8, 13, 26, 17, 19, 18, 21, 12, 5]</td>\n",
       "      <td>0.700876</td>\n",
       "    </tr>\n",
       "    <tr>\n",
       "      <th>13</th>\n",
       "      <td>[3, 6, 10, 8, 13, 26, 17, 19, 18, 21, 12, 5, 7]</td>\n",
       "      <td>0.698764</td>\n",
       "    </tr>\n",
       "    <tr>\n",
       "      <th>14</th>\n",
       "      <td>[3, 6, 10, 8, 13, 26, 17, 19, 18, 21, 12, 5, 7...</td>\n",
       "      <td>0.690813</td>\n",
       "    </tr>\n",
       "    <tr>\n",
       "      <th>15</th>\n",
       "      <td>[3, 6, 10, 8, 13, 26, 17, 19, 18, 21, 12, 5, 7...</td>\n",
       "      <td>0.682531</td>\n",
       "    </tr>\n",
       "  </tbody>\n",
       "</table>\n",
       "</div>"
      ],
      "text/plain": [
       "                                           Predictors    Recall\n",
       "0                                                  []  0.000000\n",
       "1                                                 [3]  0.715162\n",
       "2                                              [3, 6]  0.733474\n",
       "3                                          [3, 6, 10]  0.749756\n",
       "4                                       [3, 6, 10, 8]  0.749756\n",
       "5                                   [3, 6, 10, 8, 13]  0.693700\n",
       "6                               [3, 6, 10, 8, 13, 26]  0.710147\n",
       "7                           [3, 6, 10, 8, 13, 26, 17]  0.708069\n",
       "8                       [3, 6, 10, 8, 13, 26, 17, 19]  0.706287\n",
       "9                   [3, 6, 10, 8, 13, 26, 17, 19, 18]  0.705231\n",
       "10              [3, 6, 10, 8, 13, 26, 17, 19, 18, 21]  0.705099\n",
       "11          [3, 6, 10, 8, 13, 26, 17, 19, 18, 21, 12]  0.702641\n",
       "12       [3, 6, 10, 8, 13, 26, 17, 19, 18, 21, 12, 5]  0.700876\n",
       "13    [3, 6, 10, 8, 13, 26, 17, 19, 18, 21, 12, 5, 7]  0.698764\n",
       "14  [3, 6, 10, 8, 13, 26, 17, 19, 18, 21, 12, 5, 7...  0.690813\n",
       "15  [3, 6, 10, 8, 13, 26, 17, 19, 18, 21, 12, 5, 7...  0.682531"
      ]
     },
     "execution_count": 10,
     "metadata": {},
     "output_type": "execute_result"
    }
   ],
   "source": [
    "# Display the results\n",
    "forward_models"
   ]
  },
  {
   "cell_type": "markdown",
   "metadata": {},
   "source": [
    "Find the best model with the highest recall score."
   ]
  },
  {
   "cell_type": "code",
   "execution_count": 11,
   "metadata": {},
   "outputs": [
    {
     "name": "stdout",
     "output_type": "stream",
     "text": [
      "Best index            : 3\n",
      "Best Recall           : 0.749756394504763\n",
      "Best predictors (idx) : [3, 6, 10]\n",
      "Best predictors       :\n",
      "['purpose', 'pub_rec', 'pub_rec_bankruptcies']\n"
     ]
    }
   ],
   "source": [
    "# Find the best Recall score\n",
    "best_idx = forward_models['Recall'].argmax()\n",
    "best_recall = forward_models['Recall'].loc[best_idx]\n",
    "best_predictors = forward_models['Predictors'].loc[best_idx]\n",
    "\n",
    "# Print the summary\n",
    "print('Best index            :', best_idx)\n",
    "print('Best Recall           :', best_recall)\n",
    "print('Best predictors (idx) :', best_predictors)\n",
    "print('Best predictors       :')\n",
    "print(X_train_woe.columns[best_predictors].tolist())"
   ]
  },
  {
   "cell_type": "markdown",
   "metadata": {},
   "source": [
    "Refit the best model on whole X_train data."
   ]
  },
  {
   "cell_type": "code",
   "execution_count": 12,
   "metadata": {},
   "outputs": [
    {
     "data": {
      "text/html": [
       "<style>#sk-container-id-1 {color: black;}#sk-container-id-1 pre{padding: 0;}#sk-container-id-1 div.sk-toggleable {background-color: white;}#sk-container-id-1 label.sk-toggleable__label {cursor: pointer;display: block;width: 100%;margin-bottom: 0;padding: 0.3em;box-sizing: border-box;text-align: center;}#sk-container-id-1 label.sk-toggleable__label-arrow:before {content: \"▸\";float: left;margin-right: 0.25em;color: #696969;}#sk-container-id-1 label.sk-toggleable__label-arrow:hover:before {color: black;}#sk-container-id-1 div.sk-estimator:hover label.sk-toggleable__label-arrow:before {color: black;}#sk-container-id-1 div.sk-toggleable__content {max-height: 0;max-width: 0;overflow: hidden;text-align: left;background-color: #f0f8ff;}#sk-container-id-1 div.sk-toggleable__content pre {margin: 0.2em;color: black;border-radius: 0.25em;background-color: #f0f8ff;}#sk-container-id-1 input.sk-toggleable__control:checked~div.sk-toggleable__content {max-height: 200px;max-width: 100%;overflow: auto;}#sk-container-id-1 input.sk-toggleable__control:checked~label.sk-toggleable__label-arrow:before {content: \"▾\";}#sk-container-id-1 div.sk-estimator input.sk-toggleable__control:checked~label.sk-toggleable__label {background-color: #d4ebff;}#sk-container-id-1 div.sk-label input.sk-toggleable__control:checked~label.sk-toggleable__label {background-color: #d4ebff;}#sk-container-id-1 input.sk-hidden--visually {border: 0;clip: rect(1px 1px 1px 1px);clip: rect(1px, 1px, 1px, 1px);height: 1px;margin: -1px;overflow: hidden;padding: 0;position: absolute;width: 1px;}#sk-container-id-1 div.sk-estimator {font-family: monospace;background-color: #f0f8ff;border: 1px dotted black;border-radius: 0.25em;box-sizing: border-box;margin-bottom: 0.5em;}#sk-container-id-1 div.sk-estimator:hover {background-color: #d4ebff;}#sk-container-id-1 div.sk-parallel-item::after {content: \"\";width: 100%;border-bottom: 1px solid gray;flex-grow: 1;}#sk-container-id-1 div.sk-label:hover label.sk-toggleable__label {background-color: #d4ebff;}#sk-container-id-1 div.sk-serial::before {content: \"\";position: absolute;border-left: 1px solid gray;box-sizing: border-box;top: 0;bottom: 0;left: 50%;z-index: 0;}#sk-container-id-1 div.sk-serial {display: flex;flex-direction: column;align-items: center;background-color: white;padding-right: 0.2em;padding-left: 0.2em;position: relative;}#sk-container-id-1 div.sk-item {position: relative;z-index: 1;}#sk-container-id-1 div.sk-parallel {display: flex;align-items: stretch;justify-content: center;background-color: white;position: relative;}#sk-container-id-1 div.sk-item::before, #sk-container-id-1 div.sk-parallel-item::before {content: \"\";position: absolute;border-left: 1px solid gray;box-sizing: border-box;top: 0;bottom: 0;left: 50%;z-index: -1;}#sk-container-id-1 div.sk-parallel-item {display: flex;flex-direction: column;z-index: 1;position: relative;background-color: white;}#sk-container-id-1 div.sk-parallel-item:first-child::after {align-self: flex-end;width: 50%;}#sk-container-id-1 div.sk-parallel-item:last-child::after {align-self: flex-start;width: 50%;}#sk-container-id-1 div.sk-parallel-item:only-child::after {width: 0;}#sk-container-id-1 div.sk-dashed-wrapped {border: 1px dashed gray;margin: 0 0.4em 0.5em 0.4em;box-sizing: border-box;padding-bottom: 0.4em;background-color: white;}#sk-container-id-1 div.sk-label label {font-family: monospace;font-weight: bold;display: inline-block;line-height: 1.2em;}#sk-container-id-1 div.sk-label-container {text-align: center;}#sk-container-id-1 div.sk-container {/* jupyter's `normalize.less` sets `[hidden] { display: none; }` but bootstrap.min.css set `[hidden] { display: none !important; }` so we also need the `!important` here to be able to override the default hidden behavior on the sphinx rendered scikit-learn.org. See: https://github.com/scikit-learn/scikit-learn/issues/21755 */display: inline-block !important;position: relative;}#sk-container-id-1 div.sk-text-repr-fallback {display: none;}</style><div id=\"sk-container-id-1\" class=\"sk-top-container\"><div class=\"sk-text-repr-fallback\"><pre>LogisticRegression(class_weight=&#x27;balanced&#x27;, penalty=None)</pre><b>In a Jupyter environment, please rerun this cell to show the HTML representation or trust the notebook. <br />On GitHub, the HTML representation is unable to render, please try loading this page with nbviewer.org.</b></div><div class=\"sk-container\" hidden><div class=\"sk-item\"><div class=\"sk-estimator sk-toggleable\"><input class=\"sk-toggleable__control sk-hidden--visually\" id=\"sk-estimator-id-1\" type=\"checkbox\" checked><label for=\"sk-estimator-id-1\" class=\"sk-toggleable__label sk-toggleable__label-arrow\">LogisticRegression</label><div class=\"sk-toggleable__content\"><pre>LogisticRegression(class_weight=&#x27;balanced&#x27;, penalty=None)</pre></div></div></div></div></div>"
      ],
      "text/plain": [
       "LogisticRegression(class_weight='balanced', penalty=None)"
      ]
     },
     "execution_count": 12,
     "metadata": {},
     "output_type": "execute_result"
    }
   ],
   "source": [
    "# Define X with best predictors\n",
    "X_train_best = X_train[:, best_predictors]\n",
    "\n",
    "# Fit best model\n",
    "best_model = LogisticRegression(penalty = None,\n",
    "                                class_weight = 'balanced')\n",
    "best_model.fit(X_train_best, y_train)"
   ]
  },
  {
   "cell_type": "markdown",
   "metadata": {},
   "source": [
    "Extract the best model' parameter estimates."
   ]
  },
  {
   "cell_type": "code",
   "execution_count": 13,
   "metadata": {},
   "outputs": [
    {
     "data": {
      "text/html": [
       "<div>\n",
       "<style scoped>\n",
       "    .dataframe tbody tr th:only-of-type {\n",
       "        vertical-align: middle;\n",
       "    }\n",
       "\n",
       "    .dataframe tbody tr th {\n",
       "        vertical-align: top;\n",
       "    }\n",
       "\n",
       "    .dataframe thead th {\n",
       "        text-align: right;\n",
       "    }\n",
       "</style>\n",
       "<table border=\"1\" class=\"dataframe\">\n",
       "  <thead>\n",
       "    <tr style=\"text-align: right;\">\n",
       "      <th></th>\n",
       "      <th>Characteristic</th>\n",
       "      <th>Estimate</th>\n",
       "    </tr>\n",
       "  </thead>\n",
       "  <tbody>\n",
       "    <tr>\n",
       "      <th>0</th>\n",
       "      <td>Intercept</td>\n",
       "      <td>-0.000024</td>\n",
       "    </tr>\n",
       "  </tbody>\n",
       "</table>\n",
       "</div>"
      ],
      "text/plain": [
       "  Characteristic  Estimate\n",
       "0      Intercept -0.000024"
      ]
     },
     "execution_count": 13,
     "metadata": {},
     "output_type": "execute_result"
    }
   ],
   "source": [
    "best_model_intercept = pd.DataFrame({'Characteristic': 'Intercept',\n",
    "                                     'Estimate': best_model.intercept_})\n",
    "best_model_intercept"
   ]
  },
  {
   "cell_type": "code",
   "execution_count": 14,
   "metadata": {},
   "outputs": [
    {
     "data": {
      "text/html": [
       "<div>\n",
       "<style scoped>\n",
       "    .dataframe tbody tr th:only-of-type {\n",
       "        vertical-align: middle;\n",
       "    }\n",
       "\n",
       "    .dataframe tbody tr th {\n",
       "        vertical-align: top;\n",
       "    }\n",
       "\n",
       "    .dataframe thead th {\n",
       "        text-align: right;\n",
       "    }\n",
       "</style>\n",
       "<table border=\"1\" class=\"dataframe\">\n",
       "  <thead>\n",
       "    <tr style=\"text-align: right;\">\n",
       "      <th></th>\n",
       "      <th>Characteristic</th>\n",
       "      <th>Estimate</th>\n",
       "    </tr>\n",
       "  </thead>\n",
       "  <tbody>\n",
       "    <tr>\n",
       "      <th>0</th>\n",
       "      <td>Intercept</td>\n",
       "      <td>-0.000024</td>\n",
       "    </tr>\n",
       "    <tr>\n",
       "      <th>1</th>\n",
       "      <td>purpose</td>\n",
       "      <td>-0.989862</td>\n",
       "    </tr>\n",
       "    <tr>\n",
       "      <th>2</th>\n",
       "      <td>pub_rec</td>\n",
       "      <td>-0.573029</td>\n",
       "    </tr>\n",
       "    <tr>\n",
       "      <th>3</th>\n",
       "      <td>pub_rec_bankruptcies</td>\n",
       "      <td>-0.559853</td>\n",
       "    </tr>\n",
       "  </tbody>\n",
       "</table>\n",
       "</div>"
      ],
      "text/plain": [
       "         Characteristic  Estimate\n",
       "0             Intercept -0.000024\n",
       "1               purpose -0.989862\n",
       "2               pub_rec -0.573029\n",
       "3  pub_rec_bankruptcies -0.559853"
      ]
     },
     "execution_count": 14,
     "metadata": {},
     "output_type": "execute_result"
    }
   ],
   "source": [
    "best_model_params = X_train_woe.columns[best_predictors].tolist()\n",
    "best_model_coefs = pd.DataFrame({'Characteristic':  best_model_params,\n",
    "                                 'Estimate':        np.reshape(best_model.coef_,\n",
    "                                                               len(best_predictors))})\n",
    "\n",
    "best_model_summary = pd.concat((best_model_intercept, best_model_coefs),\n",
    "                               axis = 0,\n",
    "                               ignore_index = True)\n",
    "\n",
    "best_model_summary"
   ]
  },
  {
   "cell_type": "markdown",
   "metadata": {},
   "source": [
    "### **5.3 Model Evaluation**\n",
    "---"
   ]
  },
  {
   "cell_type": "markdown",
   "metadata": {},
   "source": [
    "#### Predict on train data."
   ]
  },
  {
   "cell_type": "code",
   "execution_count": 15,
   "metadata": {},
   "outputs": [
    {
     "data": {
      "text/plain": [
       "array([1, 1, 1, ..., 0, 1, 0], dtype=int64)"
      ]
     },
     "execution_count": 15,
     "metadata": {},
     "output_type": "execute_result"
    }
   ],
   "source": [
    "# Predict class labels for sample in X_train.\n",
    "y_train_pred = best_model.predict(X_train_best)\n",
    "y_train_pred"
   ]
  },
  {
   "cell_type": "code",
   "execution_count": 16,
   "metadata": {},
   "outputs": [],
   "source": [
    "# Import metrics package\n",
    "from sklearn.metrics import recall_score"
   ]
  },
  {
   "cell_type": "code",
   "execution_count": 17,
   "metadata": {},
   "outputs": [
    {
     "data": {
      "text/plain": [
       "0.7522642163089562"
      ]
     },
     "execution_count": 17,
     "metadata": {},
     "output_type": "execute_result"
    }
   ],
   "source": [
    "# Calculate the recall score on the train set\n",
    "recall_train = recall_score(y_true = y_train,\n",
    "                            y_pred = y_train_pred)\n",
    "\n",
    "recall_train"
   ]
  },
  {
   "cell_type": "markdown",
   "metadata": {},
   "source": [
    "Recall score from the train set is 0.752."
   ]
  },
  {
   "cell_type": "markdown",
   "metadata": {},
   "source": [
    "#### Predict on test data"
   ]
  },
  {
   "cell_type": "markdown",
   "metadata": {},
   "source": [
    "Import the test data."
   ]
  },
  {
   "cell_type": "code",
   "execution_count": 18,
   "metadata": {},
   "outputs": [],
   "source": [
    "# Import dataset\n",
    "data_test = pd.read_csv('test_model.csv')\n",
    "\n",
    "y_test_woe = data_test['loan_status']\n",
    "X_test_woe = data_test.drop(columns='loan_status', axis=1)\n",
    "\n",
    "X_test = X_test_woe.to_numpy()\n",
    "y_test = y_test_woe.to_numpy()"
   ]
  },
  {
   "cell_type": "markdown",
   "metadata": {},
   "source": [
    "Define the X with best predictors and predict class labels."
   ]
  },
  {
   "cell_type": "code",
   "execution_count": 19,
   "metadata": {},
   "outputs": [
    {
     "data": {
      "text/plain": [
       "array([1, 1, 1, ..., 0, 0, 0], dtype=int64)"
      ]
     },
     "execution_count": 19,
     "metadata": {},
     "output_type": "execute_result"
    }
   ],
   "source": [
    "# Define X_test with best predictors\n",
    "X_test_best = X_test[:, best_predictors]\n",
    "\n",
    "# Predict class labels for sample in X_test.\n",
    "y_test_pred = best_model.predict(X_test_best)\n",
    "y_test_pred"
   ]
  },
  {
   "cell_type": "code",
   "execution_count": 20,
   "metadata": {},
   "outputs": [
    {
     "data": {
      "text/plain": [
       "0.7557933636153669"
      ]
     },
     "execution_count": 20,
     "metadata": {},
     "output_type": "execute_result"
    }
   ],
   "source": [
    "# Calculate the recall score on the test set\n",
    "recall_test = recall_score(y_true = y_test,\n",
    "                           y_pred = y_test_pred)\n",
    "\n",
    "recall_test"
   ]
  },
  {
   "cell_type": "markdown",
   "metadata": {},
   "source": [
    "- Recall score from the train set is 0.756 which is similar to recall score from train set.\n",
    "- Best predictors: `purpose`, `pub_rec`, and `pub_rec_bankruptcies` can predict 75% of bad applicants correctly and 25% misclasify bad loan as good loan.\n",
    "- Only use 3 predictors is a bad decision eventhough the score is the highest since they are susceptible to minor changes in the applicant profile.\n",
    "- Next, we need model adjustment to increase number of characteristics to be used."
   ]
  },
  {
   "cell_type": "markdown",
   "metadata": {},
   "source": [
    "### **5.4 Model Adjustment**\n",
    "---"
   ]
  },
  {
   "cell_type": "markdown",
   "metadata": {},
   "source": [
    "We will choose best predictors from forward models with more than 10 predictors. I choose index 12 because the decrease of recall score to index 13 is higher than decrease from index 11 to index 12 and the recall score on index 12 still 0.7."
   ]
  },
  {
   "cell_type": "code",
   "execution_count": 21,
   "metadata": {},
   "outputs": [],
   "source": [
    "best_predictors = forward_models['Predictors'].loc[12]"
   ]
  },
  {
   "cell_type": "code",
   "execution_count": 22,
   "metadata": {},
   "outputs": [
    {
     "data": {
      "text/html": [
       "<style>#sk-container-id-2 {color: black;}#sk-container-id-2 pre{padding: 0;}#sk-container-id-2 div.sk-toggleable {background-color: white;}#sk-container-id-2 label.sk-toggleable__label {cursor: pointer;display: block;width: 100%;margin-bottom: 0;padding: 0.3em;box-sizing: border-box;text-align: center;}#sk-container-id-2 label.sk-toggleable__label-arrow:before {content: \"▸\";float: left;margin-right: 0.25em;color: #696969;}#sk-container-id-2 label.sk-toggleable__label-arrow:hover:before {color: black;}#sk-container-id-2 div.sk-estimator:hover label.sk-toggleable__label-arrow:before {color: black;}#sk-container-id-2 div.sk-toggleable__content {max-height: 0;max-width: 0;overflow: hidden;text-align: left;background-color: #f0f8ff;}#sk-container-id-2 div.sk-toggleable__content pre {margin: 0.2em;color: black;border-radius: 0.25em;background-color: #f0f8ff;}#sk-container-id-2 input.sk-toggleable__control:checked~div.sk-toggleable__content {max-height: 200px;max-width: 100%;overflow: auto;}#sk-container-id-2 input.sk-toggleable__control:checked~label.sk-toggleable__label-arrow:before {content: \"▾\";}#sk-container-id-2 div.sk-estimator input.sk-toggleable__control:checked~label.sk-toggleable__label {background-color: #d4ebff;}#sk-container-id-2 div.sk-label input.sk-toggleable__control:checked~label.sk-toggleable__label {background-color: #d4ebff;}#sk-container-id-2 input.sk-hidden--visually {border: 0;clip: rect(1px 1px 1px 1px);clip: rect(1px, 1px, 1px, 1px);height: 1px;margin: -1px;overflow: hidden;padding: 0;position: absolute;width: 1px;}#sk-container-id-2 div.sk-estimator {font-family: monospace;background-color: #f0f8ff;border: 1px dotted black;border-radius: 0.25em;box-sizing: border-box;margin-bottom: 0.5em;}#sk-container-id-2 div.sk-estimator:hover {background-color: #d4ebff;}#sk-container-id-2 div.sk-parallel-item::after {content: \"\";width: 100%;border-bottom: 1px solid gray;flex-grow: 1;}#sk-container-id-2 div.sk-label:hover label.sk-toggleable__label {background-color: #d4ebff;}#sk-container-id-2 div.sk-serial::before {content: \"\";position: absolute;border-left: 1px solid gray;box-sizing: border-box;top: 0;bottom: 0;left: 50%;z-index: 0;}#sk-container-id-2 div.sk-serial {display: flex;flex-direction: column;align-items: center;background-color: white;padding-right: 0.2em;padding-left: 0.2em;position: relative;}#sk-container-id-2 div.sk-item {position: relative;z-index: 1;}#sk-container-id-2 div.sk-parallel {display: flex;align-items: stretch;justify-content: center;background-color: white;position: relative;}#sk-container-id-2 div.sk-item::before, #sk-container-id-2 div.sk-parallel-item::before {content: \"\";position: absolute;border-left: 1px solid gray;box-sizing: border-box;top: 0;bottom: 0;left: 50%;z-index: -1;}#sk-container-id-2 div.sk-parallel-item {display: flex;flex-direction: column;z-index: 1;position: relative;background-color: white;}#sk-container-id-2 div.sk-parallel-item:first-child::after {align-self: flex-end;width: 50%;}#sk-container-id-2 div.sk-parallel-item:last-child::after {align-self: flex-start;width: 50%;}#sk-container-id-2 div.sk-parallel-item:only-child::after {width: 0;}#sk-container-id-2 div.sk-dashed-wrapped {border: 1px dashed gray;margin: 0 0.4em 0.5em 0.4em;box-sizing: border-box;padding-bottom: 0.4em;background-color: white;}#sk-container-id-2 div.sk-label label {font-family: monospace;font-weight: bold;display: inline-block;line-height: 1.2em;}#sk-container-id-2 div.sk-label-container {text-align: center;}#sk-container-id-2 div.sk-container {/* jupyter's `normalize.less` sets `[hidden] { display: none; }` but bootstrap.min.css set `[hidden] { display: none !important; }` so we also need the `!important` here to be able to override the default hidden behavior on the sphinx rendered scikit-learn.org. See: https://github.com/scikit-learn/scikit-learn/issues/21755 */display: inline-block !important;position: relative;}#sk-container-id-2 div.sk-text-repr-fallback {display: none;}</style><div id=\"sk-container-id-2\" class=\"sk-top-container\"><div class=\"sk-text-repr-fallback\"><pre>LogisticRegression(class_weight=&#x27;balanced&#x27;, penalty=None)</pre><b>In a Jupyter environment, please rerun this cell to show the HTML representation or trust the notebook. <br />On GitHub, the HTML representation is unable to render, please try loading this page with nbviewer.org.</b></div><div class=\"sk-container\" hidden><div class=\"sk-item\"><div class=\"sk-estimator sk-toggleable\"><input class=\"sk-toggleable__control sk-hidden--visually\" id=\"sk-estimator-id-2\" type=\"checkbox\" checked><label for=\"sk-estimator-id-2\" class=\"sk-toggleable__label sk-toggleable__label-arrow\">LogisticRegression</label><div class=\"sk-toggleable__content\"><pre>LogisticRegression(class_weight=&#x27;balanced&#x27;, penalty=None)</pre></div></div></div></div></div>"
      ],
      "text/plain": [
       "LogisticRegression(class_weight='balanced', penalty=None)"
      ]
     },
     "execution_count": 22,
     "metadata": {},
     "output_type": "execute_result"
    }
   ],
   "source": [
    "# Define X with best predictors\n",
    "X_train_best = X_train[:, best_predictors]\n",
    "\n",
    "# Fit best model\n",
    "best_model = LogisticRegression(penalty = None,\n",
    "                                class_weight = 'balanced')\n",
    "best_model.fit(X_train_best, y_train)"
   ]
  },
  {
   "cell_type": "code",
   "execution_count": 23,
   "metadata": {},
   "outputs": [
    {
     "data": {
      "text/html": [
       "<div>\n",
       "<style scoped>\n",
       "    .dataframe tbody tr th:only-of-type {\n",
       "        vertical-align: middle;\n",
       "    }\n",
       "\n",
       "    .dataframe tbody tr th {\n",
       "        vertical-align: top;\n",
       "    }\n",
       "\n",
       "    .dataframe thead th {\n",
       "        text-align: right;\n",
       "    }\n",
       "</style>\n",
       "<table border=\"1\" class=\"dataframe\">\n",
       "  <thead>\n",
       "    <tr style=\"text-align: right;\">\n",
       "      <th></th>\n",
       "      <th>Characteristic</th>\n",
       "      <th>Estimate</th>\n",
       "    </tr>\n",
       "  </thead>\n",
       "  <tbody>\n",
       "    <tr>\n",
       "      <th>0</th>\n",
       "      <td>Intercept</td>\n",
       "      <td>-0.00038</td>\n",
       "    </tr>\n",
       "  </tbody>\n",
       "</table>\n",
       "</div>"
      ],
      "text/plain": [
       "  Characteristic  Estimate\n",
       "0      Intercept  -0.00038"
      ]
     },
     "execution_count": 23,
     "metadata": {},
     "output_type": "execute_result"
    }
   ],
   "source": [
    "best_model_intercept = pd.DataFrame({'Characteristic': 'Intercept',\n",
    "                                     'Estimate': best_model.intercept_})\n",
    "best_model_intercept"
   ]
  },
  {
   "cell_type": "code",
   "execution_count": 24,
   "metadata": {},
   "outputs": [
    {
     "data": {
      "text/html": [
       "<div>\n",
       "<style scoped>\n",
       "    .dataframe tbody tr th:only-of-type {\n",
       "        vertical-align: middle;\n",
       "    }\n",
       "\n",
       "    .dataframe tbody tr th {\n",
       "        vertical-align: top;\n",
       "    }\n",
       "\n",
       "    .dataframe thead th {\n",
       "        text-align: right;\n",
       "    }\n",
       "</style>\n",
       "<table border=\"1\" class=\"dataframe\">\n",
       "  <thead>\n",
       "    <tr style=\"text-align: right;\">\n",
       "      <th></th>\n",
       "      <th>Characteristic</th>\n",
       "      <th>Estimate</th>\n",
       "    </tr>\n",
       "  </thead>\n",
       "  <tbody>\n",
       "    <tr>\n",
       "      <th>0</th>\n",
       "      <td>Intercept</td>\n",
       "      <td>-0.000380</td>\n",
       "    </tr>\n",
       "    <tr>\n",
       "      <th>1</th>\n",
       "      <td>purpose</td>\n",
       "      <td>-0.298889</td>\n",
       "    </tr>\n",
       "    <tr>\n",
       "      <th>2</th>\n",
       "      <td>pub_rec</td>\n",
       "      <td>-0.109255</td>\n",
       "    </tr>\n",
       "    <tr>\n",
       "      <th>3</th>\n",
       "      <td>pub_rec_bankruptcies</td>\n",
       "      <td>-0.490196</td>\n",
       "    </tr>\n",
       "    <tr>\n",
       "      <th>4</th>\n",
       "      <td>application_type</td>\n",
       "      <td>0.006709</td>\n",
       "    </tr>\n",
       "    <tr>\n",
       "      <th>5</th>\n",
       "      <td>int_rate_bin</td>\n",
       "      <td>-0.963741</td>\n",
       "    </tr>\n",
       "    <tr>\n",
       "      <th>6</th>\n",
       "      <td>emp_length_bin</td>\n",
       "      <td>-0.892950</td>\n",
       "    </tr>\n",
       "    <tr>\n",
       "      <th>7</th>\n",
       "      <td>revol_util_bin</td>\n",
       "      <td>-0.101388</td>\n",
       "    </tr>\n",
       "    <tr>\n",
       "      <th>8</th>\n",
       "      <td>num_il_tl_bin</td>\n",
       "      <td>-0.243459</td>\n",
       "    </tr>\n",
       "    <tr>\n",
       "      <th>9</th>\n",
       "      <td>num_bc_tl_bin</td>\n",
       "      <td>0.042825</td>\n",
       "    </tr>\n",
       "    <tr>\n",
       "      <th>10</th>\n",
       "      <td>num_rev_accts_bin</td>\n",
       "      <td>0.399471</td>\n",
       "    </tr>\n",
       "    <tr>\n",
       "      <th>11</th>\n",
       "      <td>loan_amnt_bin</td>\n",
       "      <td>-0.204021</td>\n",
       "    </tr>\n",
       "    <tr>\n",
       "      <th>12</th>\n",
       "      <td>delinq_2yrs</td>\n",
       "      <td>-0.496127</td>\n",
       "    </tr>\n",
       "  </tbody>\n",
       "</table>\n",
       "</div>"
      ],
      "text/plain": [
       "          Characteristic  Estimate\n",
       "0              Intercept -0.000380\n",
       "1                purpose -0.298889\n",
       "2                pub_rec -0.109255\n",
       "3   pub_rec_bankruptcies -0.490196\n",
       "4       application_type  0.006709\n",
       "5           int_rate_bin -0.963741\n",
       "6         emp_length_bin -0.892950\n",
       "7         revol_util_bin -0.101388\n",
       "8          num_il_tl_bin -0.243459\n",
       "9          num_bc_tl_bin  0.042825\n",
       "10     num_rev_accts_bin  0.399471\n",
       "11         loan_amnt_bin -0.204021\n",
       "12           delinq_2yrs -0.496127"
      ]
     },
     "execution_count": 24,
     "metadata": {},
     "output_type": "execute_result"
    }
   ],
   "source": [
    "best_model_params = X_train_woe.columns[best_predictors].tolist()\n",
    "best_model_coefs = pd.DataFrame({'Characteristic':  best_model_params,\n",
    "                                 'Estimate':        np.reshape(best_model.coef_,\n",
    "                                                               len(best_predictors))})\n",
    "\n",
    "best_model_summary = pd.concat((best_model_intercept, best_model_coefs),\n",
    "                               axis = 0,\n",
    "                               ignore_index = True)\n",
    "\n",
    "best_model_summary"
   ]
  },
  {
   "cell_type": "markdown",
   "metadata": {},
   "source": [
    "#### Predict on Train Data"
   ]
  },
  {
   "cell_type": "code",
   "execution_count": 25,
   "metadata": {},
   "outputs": [
    {
     "data": {
      "text/plain": [
       "array([1, 1, 1, ..., 1, 1, 0], dtype=int64)"
      ]
     },
     "execution_count": 25,
     "metadata": {},
     "output_type": "execute_result"
    }
   ],
   "source": [
    "# Predict class labels for sample in X_train.\n",
    "y_train_pred = best_model.predict(X_train_best)\n",
    "y_train_pred"
   ]
  },
  {
   "cell_type": "code",
   "execution_count": 26,
   "metadata": {},
   "outputs": [
    {
     "data": {
      "text/plain": [
       "0.701222429351502"
      ]
     },
     "execution_count": 26,
     "metadata": {},
     "output_type": "execute_result"
    }
   ],
   "source": [
    "# Calculate the recall score on the train set\n",
    "recall_train = recall_score(y_true = y_train,\n",
    "                            y_pred = y_train_pred)\n",
    "\n",
    "recall_train"
   ]
  },
  {
   "cell_type": "code",
   "execution_count": 27,
   "metadata": {},
   "outputs": [],
   "source": [
    "# Using method sklearn.metrics.roc_curve\n",
    "from sklearn import metrics"
   ]
  },
  {
   "cell_type": "code",
   "execution_count": 28,
   "metadata": {},
   "outputs": [
    {
     "data": {
      "image/png": "[encoded data removed]",
      "text/plain": [
       "<Figure size 432x288 with 1 Axes>"
      ]
     },
     "metadata": {
      "needs_background": "light"
     },
     "output_type": "display_data"
    }
   ],
   "source": [
    "# Predict probability of default on X_train\n",
    "y_train_pred_proba = best_model.predict_proba(X_train_best)\n",
    "\n",
    "# Calculate sensitivity (TPR) and 1-specificity (FPR) from each possible threshold\n",
    "fpr, tpr, threshold = metrics.roc_curve(y_true = y_train,\n",
    "                                        y_score = y_train_pred_proba[:,1])\n",
    "\n",
    "# Calculate AUC score using method sklearn.metrics.roc_auc_score\n",
    "auc_train = metrics.roc_auc_score(y_true = y_train,\n",
    "                                  y_score = y_train_pred_proba[:,1])\n",
    "auc_train = round(auc_train, 2)\n",
    "\n",
    "# Plot ROC and its AUC\n",
    "plt.plot(fpr,\n",
    "         tpr,\n",
    "         label = \"AUC train=\"+str(auc_train))\n",
    "\n",
    "plt.ylabel(\"Sensitivity/Recall\")\n",
    "plt.xlabel(\"False Positive Rate (1- Specificity)\")\n",
    "plt.legend(loc = 4)\n",
    "plt.show()"
   ]
  },
  {
   "cell_type": "code",
   "execution_count": 29,
   "metadata": {},
   "outputs": [],
   "source": [
    "# Import library to plot KS\n",
    "import scikitplot as skplt"
   ]
  },
  {
   "cell_type": "code",
   "execution_count": 30,
   "metadata": {},
   "outputs": [
    {
     "data": {
      "text/plain": [
       "<Axes: title={'center': 'KS Statistic Plot'}, xlabel='Threshold', ylabel='Percentage below threshold'>"
      ]
     },
     "execution_count": 30,
     "metadata": {},
     "output_type": "execute_result"
    },
    {
     "data": {
      "image/png": "[encoded data removed]",
      "text/plain": [
       "<Figure size 432x288 with 1 Axes>"
      ]
     },
     "metadata": {
      "needs_background": "light"
     },
     "output_type": "display_data"
    }
   ],
   "source": [
    "# Plot KS Statistic\n",
    "skplt.metrics.plot_ks_statistic(y_train,\n",
    "                                y_train_pred_proba)"
   ]
  },
  {
   "cell_type": "markdown",
   "metadata": {},
   "source": [
    "#### Predict on Test Data"
   ]
  },
  {
   "cell_type": "code",
   "execution_count": 31,
   "metadata": {},
   "outputs": [
    {
     "data": {
      "text/plain": [
       "array([1, 0, 1, ..., 0, 0, 1], dtype=int64)"
      ]
     },
     "execution_count": 31,
     "metadata": {},
     "output_type": "execute_result"
    }
   ],
   "source": [
    "# Define X_test with best predictors\n",
    "X_test_best = X_test[:, best_predictors]\n",
    "\n",
    "# Predict class labels for sample in X_test.\n",
    "y_test_pred = best_model.predict(X_test_best)\n",
    "y_test_pred"
   ]
  },
  {
   "cell_type": "code",
   "execution_count": 32,
   "metadata": {},
   "outputs": [
    {
     "data": {
      "text/plain": [
       "0.7007082916313804"
      ]
     },
     "execution_count": 32,
     "metadata": {},
     "output_type": "execute_result"
    }
   ],
   "source": [
    "# Calculate the recall score on the test set\n",
    "recall_test = recall_score(y_true = y_test,\n",
    "                           y_pred = y_test_pred)\n",
    "\n",
    "recall_test"
   ]
  },
  {
   "cell_type": "code",
   "execution_count": 33,
   "metadata": {},
   "outputs": [
    {
     "data": {
      "image/png": "[encoded data removed]",
      "text/plain": [
       "<Figure size 432x288 with 1 Axes>"
      ]
     },
     "metadata": {
      "needs_background": "light"
     },
     "output_type": "display_data"
    }
   ],
   "source": [
    "# Predict probability of default on X_test\n",
    "y_test_pred_proba = best_model.predict_proba(X_test_best)\n",
    "\n",
    "# Calculate sensitivity (TPR) and 1-specificity (FPR) from each possible threshold\n",
    "fpr_, tpr_, threshold_ = metrics.roc_curve(y_true = y_test,\n",
    "                                           y_score = y_test_pred_proba[:,1])\n",
    "\n",
    "# Calculate AUC score using method sklearn.metrics.roc_auc_score\n",
    "auc_test = metrics.roc_auc_score(y_true = y_test,\n",
    "                                 y_score = y_test_pred_proba[:,1])\n",
    "auc_test = round(auc_test, 2)\n",
    "\n",
    "# Plot ROC and its AUC\n",
    "plt.plot(fpr_,\n",
    "         tpr_,\n",
    "         label = \"AUC test=\"+str(auc_test))\n",
    "\n",
    "plt.ylabel(\"Sensitivity/Recall\")\n",
    "plt.xlabel(\"False Positive Rate (1- Specificity)\")\n",
    "plt.legend(loc = 4)\n",
    "plt.show()"
   ]
  },
  {
   "cell_type": "code",
   "execution_count": 34,
   "metadata": {},
   "outputs": [
    {
     "data": {
      "text/plain": [
       "<Axes: title={'center': 'KS Statistic Plot'}, xlabel='Threshold', ylabel='Percentage below threshold'>"
      ]
     },
     "execution_count": 34,
     "metadata": {},
     "output_type": "execute_result"
    },
    {
     "data": {
      "image/png": "[encoded data removed]",
      "text/plain": [
       "<Figure size 432x288 with 1 Axes>"
      ]
     },
     "metadata": {
      "needs_background": "light"
     },
     "output_type": "display_data"
    }
   ],
   "source": [
    "# Plot KS Statistic\n",
    "skplt.metrics.plot_ks_statistic(y_test,\n",
    "                                y_test_pred_proba)"
   ]
  },
  {
   "cell_type": "markdown",
   "metadata": {},
   "source": [
    "#### Summary"
   ]
  },
  {
   "cell_type": "markdown",
   "metadata": {},
   "source": [
    "- Recall score from the adjusted model is 0.701 on the train set and 0.7 on the test set.\n",
    "- The AUC from the adjusted model is 0.65 on the train and test set.\n",
    "- Value of KS statistic is 0.233 which is a bit low and explain that our model cannot well discriminates between good and bad loan."
   ]
  },
  {
   "cell_type": "markdown",
   "metadata": {},
   "source": [
    "# **6. Scaling**\n",
    "---"
   ]
  },
  {
   "cell_type": "markdown",
   "metadata": {},
   "source": [
    "### **6.1 Create Scorecards**\n",
    "---"
   ]
  },
  {
   "cell_type": "markdown",
   "metadata": {},
   "source": [
    "Assign score to each attribute by specifying:\n",
    "- Odds of good of 30:1 at 300 points score, and\n",
    "- 20 PDO (points to double the odds of good).\n",
    "\n",
    "Thus, we can calculate the offset and factor:\n",
    "- $\\text{Factor}=\\text{PDO}/ \\ln(2)$\n",
    "- $\\text{Offset} = \\text{Score} − {\\text{Factor} ∗ \\ln (\\text{Odds of good})}$"
   ]
  },
  {
   "cell_type": "code",
   "execution_count": 35,
   "metadata": {},
   "outputs": [
    {
     "name": "stdout",
     "output_type": "stream",
     "text": [
      "Offset = 201.86\n",
      "Factor = 28.85\n"
     ]
    }
   ],
   "source": [
    "# Define Factor and Offset\n",
    "factor = 20/np.log(2)\n",
    "offset = 300-(factor*np.log(30))\n",
    "\n",
    "print(f\"Offset = {offset:.2f}\")\n",
    "print(f\"Factor = {factor:.2f}\")"
   ]
  },
  {
   "cell_type": "code",
   "execution_count": 36,
   "metadata": {},
   "outputs": [
    {
     "name": "stdout",
     "output_type": "stream",
     "text": [
      "n = 12\n",
      "b0 = -0.0004\n"
     ]
    }
   ],
   "source": [
    "# Define n = number of characteristics\n",
    "n = len(best_predictors)\n",
    "\n",
    "# Define b0\n",
    "b0 = best_model.intercept_[0]\n",
    "\n",
    "print(f\"n = {n}\")\n",
    "print(f\"b0 = {b0:.4f}\")"
   ]
  },
  {
   "cell_type": "markdown",
   "metadata": {},
   "source": [
    "Numerical columns"
   ]
  },
  {
   "cell_type": "code",
   "execution_count": 37,
   "metadata": {},
   "outputs": [],
   "source": [
    "# Numerical characteristics\n",
    "num_columns = ['emp_length', 'annual_inc', 'loan_amnt', 'int_rate', 'dti', 'fico_range_low', 'open_acc', \n",
    "               'revol_util', 'num_bc_tl', 'num_il_tl', 'num_op_rev_tl', 'num_rev_accts', \n",
    "               'num_rev_tl_bal_gt_0', 'mo_sin_old_il_acct', 'mo_sin_old_rev_tl_op', 'revol_bal']"
   ]
  },
  {
   "cell_type": "markdown",
   "metadata": {},
   "source": [
    "Load the WoE Table"
   ]
  },
  {
   "cell_type": "code",
   "execution_count": 38,
   "metadata": {},
   "outputs": [],
   "source": [
    "import joblib"
   ]
  },
  {
   "cell_type": "code",
   "execution_count": 39,
   "metadata": {},
   "outputs": [],
   "source": [
    "WoE_table = joblib.load('WoE_table.pkl')"
   ]
  },
  {
   "cell_type": "code",
   "execution_count": 40,
   "metadata": {},
   "outputs": [
    {
     "data": {
      "text/html": [
       "<div>\n",
       "<style scoped>\n",
       "    .dataframe tbody tr th:only-of-type {\n",
       "        vertical-align: middle;\n",
       "    }\n",
       "\n",
       "    .dataframe tbody tr th {\n",
       "        vertical-align: top;\n",
       "    }\n",
       "\n",
       "    .dataframe thead th {\n",
       "        text-align: right;\n",
       "    }\n",
       "</style>\n",
       "<table border=\"1\" class=\"dataframe\">\n",
       "  <thead>\n",
       "    <tr style=\"text-align: right;\">\n",
       "      <th></th>\n",
       "      <th>Characteristic</th>\n",
       "      <th>Attribute</th>\n",
       "      <th>WoE</th>\n",
       "      <th>Estimate</th>\n",
       "    </tr>\n",
       "  </thead>\n",
       "  <tbody>\n",
       "    <tr>\n",
       "      <th>0</th>\n",
       "      <td>emp_length_bin</td>\n",
       "      <td>(-0.001, 2.0]</td>\n",
       "      <td>-0.024947</td>\n",
       "      <td>-0.892950</td>\n",
       "    </tr>\n",
       "    <tr>\n",
       "      <th>1</th>\n",
       "      <td>emp_length_bin</td>\n",
       "      <td>(2.0, 6.0]</td>\n",
       "      <td>0.010390</td>\n",
       "      <td>-0.892950</td>\n",
       "    </tr>\n",
       "    <tr>\n",
       "      <th>2</th>\n",
       "      <td>emp_length_bin</td>\n",
       "      <td>(6.0, 10.0]</td>\n",
       "      <td>0.084130</td>\n",
       "      <td>-0.892950</td>\n",
       "    </tr>\n",
       "    <tr>\n",
       "      <th>3</th>\n",
       "      <td>emp_length_bin</td>\n",
       "      <td>missing</td>\n",
       "      <td>-0.475502</td>\n",
       "      <td>-0.892950</td>\n",
       "    </tr>\n",
       "    <tr>\n",
       "      <th>4</th>\n",
       "      <td>loan_amnt_bin</td>\n",
       "      <td>(499.999, 6625.0]</td>\n",
       "      <td>-0.036244</td>\n",
       "      <td>-0.204021</td>\n",
       "    </tr>\n",
       "  </tbody>\n",
       "</table>\n",
       "</div>"
      ],
      "text/plain": [
       "   Characteristic          Attribute       WoE  Estimate\n",
       "0  emp_length_bin      (-0.001, 2.0] -0.024947 -0.892950\n",
       "1  emp_length_bin         (2.0, 6.0]  0.010390 -0.892950\n",
       "2  emp_length_bin        (6.0, 10.0]  0.084130 -0.892950\n",
       "3  emp_length_bin            missing -0.475502 -0.892950\n",
       "4   loan_amnt_bin  (499.999, 6625.0] -0.036244 -0.204021"
      ]
     },
     "execution_count": 40,
     "metadata": {},
     "output_type": "execute_result"
    }
   ],
   "source": [
    "# Adjust characteristic name in best_model_summary_table\n",
    "adjusted_WoE_table = WoE_table[WoE_table['Characteristic'].isin(best_model_summary['Characteristic'])]\n",
    "\n",
    "# Merge tables to get beta_i for each characteristic\n",
    "scorecards = pd.merge(left = adjusted_WoE_table,\n",
    "                      right = best_model_summary,\n",
    "                      how = 'left',\n",
    "                      on = ['Characteristic'])\n",
    "\n",
    "scorecards.head()"
   ]
  },
  {
   "cell_type": "markdown",
   "metadata": {},
   "source": [
    "Score point for each attribute in each characteristic can be computed using equation below:\n",
    "$$\n",
    "\\frac{\\text{Offset}}{n} - \\text{Factor} \\times \\left (\\frac{\\beta_0}{n}  + \\beta_i \\times \\text{WOE}_j \\right )\n",
    "$$"
   ]
  },
  {
   "cell_type": "code",
   "execution_count": 41,
   "metadata": {},
   "outputs": [
    {
     "data": {
      "text/html": [
       "<div>\n",
       "<style scoped>\n",
       "    .dataframe tbody tr th:only-of-type {\n",
       "        vertical-align: middle;\n",
       "    }\n",
       "\n",
       "    .dataframe tbody tr th {\n",
       "        vertical-align: top;\n",
       "    }\n",
       "\n",
       "    .dataframe thead th {\n",
       "        text-align: right;\n",
       "    }\n",
       "</style>\n",
       "<table border=\"1\" class=\"dataframe\">\n",
       "  <thead>\n",
       "    <tr style=\"text-align: right;\">\n",
       "      <th></th>\n",
       "      <th>Characteristic</th>\n",
       "      <th>Attribute</th>\n",
       "      <th>WoE</th>\n",
       "      <th>Estimate</th>\n",
       "      <th>Points</th>\n",
       "    </tr>\n",
       "  </thead>\n",
       "  <tbody>\n",
       "    <tr>\n",
       "      <th>0</th>\n",
       "      <td>emp_length_bin</td>\n",
       "      <td>(-0.001, 2.0]</td>\n",
       "      <td>-0.024947</td>\n",
       "      <td>-0.892950</td>\n",
       "      <td>16</td>\n",
       "    </tr>\n",
       "    <tr>\n",
       "      <th>1</th>\n",
       "      <td>emp_length_bin</td>\n",
       "      <td>(2.0, 6.0]</td>\n",
       "      <td>0.010390</td>\n",
       "      <td>-0.892950</td>\n",
       "      <td>17</td>\n",
       "    </tr>\n",
       "    <tr>\n",
       "      <th>2</th>\n",
       "      <td>emp_length_bin</td>\n",
       "      <td>(6.0, 10.0]</td>\n",
       "      <td>0.084130</td>\n",
       "      <td>-0.892950</td>\n",
       "      <td>18</td>\n",
       "    </tr>\n",
       "    <tr>\n",
       "      <th>3</th>\n",
       "      <td>emp_length_bin</td>\n",
       "      <td>missing</td>\n",
       "      <td>-0.475502</td>\n",
       "      <td>-0.892950</td>\n",
       "      <td>4</td>\n",
       "    </tr>\n",
       "    <tr>\n",
       "      <th>4</th>\n",
       "      <td>loan_amnt_bin</td>\n",
       "      <td>(499.999, 6625.0]</td>\n",
       "      <td>-0.036244</td>\n",
       "      <td>-0.204021</td>\n",
       "      <td>16</td>\n",
       "    </tr>\n",
       "    <tr>\n",
       "      <th>...</th>\n",
       "      <td>...</td>\n",
       "      <td>...</td>\n",
       "      <td>...</td>\n",
       "      <td>...</td>\n",
       "      <td>...</td>\n",
       "    </tr>\n",
       "    <tr>\n",
       "      <th>56</th>\n",
       "      <td>pub_rec_bankruptcies</td>\n",
       "      <td>missing</td>\n",
       "      <td>-0.763086</td>\n",
       "      <td>-0.490196</td>\n",
       "      <td>6</td>\n",
       "    </tr>\n",
       "    <tr>\n",
       "      <th>57</th>\n",
       "      <td>delinq_2yrs</td>\n",
       "      <td>0.0</td>\n",
       "      <td>0.019668</td>\n",
       "      <td>-0.496127</td>\n",
       "      <td>17</td>\n",
       "    </tr>\n",
       "    <tr>\n",
       "      <th>58</th>\n",
       "      <td>delinq_2yrs</td>\n",
       "      <td>1.0</td>\n",
       "      <td>-0.042164</td>\n",
       "      <td>-0.496127</td>\n",
       "      <td>16</td>\n",
       "    </tr>\n",
       "    <tr>\n",
       "      <th>59</th>\n",
       "      <td>delinq_2yrs</td>\n",
       "      <td>2.0</td>\n",
       "      <td>-0.147374</td>\n",
       "      <td>-0.496127</td>\n",
       "      <td>14</td>\n",
       "    </tr>\n",
       "    <tr>\n",
       "      <th>60</th>\n",
       "      <td>delinq_2yrs</td>\n",
       "      <td>3.0</td>\n",
       "      <td>-0.159957</td>\n",
       "      <td>-0.496127</td>\n",
       "      <td>14</td>\n",
       "    </tr>\n",
       "  </tbody>\n",
       "</table>\n",
       "<p>61 rows × 5 columns</p>\n",
       "</div>"
      ],
      "text/plain": [
       "          Characteristic          Attribute       WoE  Estimate  Points\n",
       "0         emp_length_bin      (-0.001, 2.0] -0.024947 -0.892950      16\n",
       "1         emp_length_bin         (2.0, 6.0]  0.010390 -0.892950      17\n",
       "2         emp_length_bin        (6.0, 10.0]  0.084130 -0.892950      18\n",
       "3         emp_length_bin            missing -0.475502 -0.892950       4\n",
       "4          loan_amnt_bin  (499.999, 6625.0] -0.036244 -0.204021      16\n",
       "..                   ...                ...       ...       ...     ...\n",
       "56  pub_rec_bankruptcies            missing -0.763086 -0.490196       6\n",
       "57           delinq_2yrs                0.0  0.019668 -0.496127      17\n",
       "58           delinq_2yrs                1.0 -0.042164 -0.496127      16\n",
       "59           delinq_2yrs                2.0 -0.147374 -0.496127      14\n",
       "60           delinq_2yrs                3.0 -0.159957 -0.496127      14\n",
       "\n",
       "[61 rows x 5 columns]"
      ]
     },
     "execution_count": 41,
     "metadata": {},
     "output_type": "execute_result"
    }
   ],
   "source": [
    "# Define beta and WOE\n",
    "beta = scorecards['Estimate']\n",
    "WoE = scorecards['WoE']\n",
    "\n",
    "# Calculate the score point for each attribute\n",
    "scorecards['Points'] = (offset/n) - factor*((b0/n) + (beta*WoE))\n",
    "scorecards['Points'] = scorecards['Points'].astype('int')\n",
    "\n",
    "scorecards"
   ]
  },
  {
   "cell_type": "code",
   "execution_count": 42,
   "metadata": {},
   "outputs": [
    {
     "data": {
      "text/html": [
       "<div>\n",
       "<style scoped>\n",
       "    .dataframe tbody tr th:only-of-type {\n",
       "        vertical-align: middle;\n",
       "    }\n",
       "\n",
       "    .dataframe tbody tr th {\n",
       "        vertical-align: top;\n",
       "    }\n",
       "\n",
       "    .dataframe thead th {\n",
       "        text-align: right;\n",
       "    }\n",
       "</style>\n",
       "<table border=\"1\" class=\"dataframe\">\n",
       "  <thead>\n",
       "    <tr style=\"text-align: right;\">\n",
       "      <th></th>\n",
       "      <th>min</th>\n",
       "      <th>max</th>\n",
       "    </tr>\n",
       "    <tr>\n",
       "      <th>Characteristic</th>\n",
       "      <th></th>\n",
       "      <th></th>\n",
       "    </tr>\n",
       "  </thead>\n",
       "  <tbody>\n",
       "    <tr>\n",
       "      <th>application_type</th>\n",
       "      <td>16</td>\n",
       "      <td>16</td>\n",
       "    </tr>\n",
       "    <tr>\n",
       "      <th>delinq_2yrs</th>\n",
       "      <td>14</td>\n",
       "      <td>17</td>\n",
       "    </tr>\n",
       "    <tr>\n",
       "      <th>emp_length_bin</th>\n",
       "      <td>4</td>\n",
       "      <td>18</td>\n",
       "    </tr>\n",
       "    <tr>\n",
       "      <th>int_rate_bin</th>\n",
       "      <td>0</td>\n",
       "      <td>43</td>\n",
       "    </tr>\n",
       "    <tr>\n",
       "      <th>loan_amnt_bin</th>\n",
       "      <td>16</td>\n",
       "      <td>17</td>\n",
       "    </tr>\n",
       "    <tr>\n",
       "      <th>num_bc_tl_bin</th>\n",
       "      <td>16</td>\n",
       "      <td>16</td>\n",
       "    </tr>\n",
       "    <tr>\n",
       "      <th>num_il_tl_bin</th>\n",
       "      <td>16</td>\n",
       "      <td>17</td>\n",
       "    </tr>\n",
       "    <tr>\n",
       "      <th>num_rev_accts_bin</th>\n",
       "      <td>15</td>\n",
       "      <td>17</td>\n",
       "    </tr>\n",
       "    <tr>\n",
       "      <th>pub_rec</th>\n",
       "      <td>16</td>\n",
       "      <td>16</td>\n",
       "    </tr>\n",
       "    <tr>\n",
       "      <th>pub_rec_bankruptcies</th>\n",
       "      <td>6</td>\n",
       "      <td>17</td>\n",
       "    </tr>\n",
       "    <tr>\n",
       "      <th>purpose</th>\n",
       "      <td>11</td>\n",
       "      <td>19</td>\n",
       "    </tr>\n",
       "    <tr>\n",
       "      <th>revol_util_bin</th>\n",
       "      <td>16</td>\n",
       "      <td>17</td>\n",
       "    </tr>\n",
       "  </tbody>\n",
       "</table>\n",
       "</div>"
      ],
      "text/plain": [
       "                      min  max\n",
       "Characteristic                \n",
       "application_type       16   16\n",
       "delinq_2yrs            14   17\n",
       "emp_length_bin          4   18\n",
       "int_rate_bin            0   43\n",
       "loan_amnt_bin          16   17\n",
       "num_bc_tl_bin          16   16\n",
       "num_il_tl_bin          16   17\n",
       "num_rev_accts_bin      15   17\n",
       "pub_rec                16   16\n",
       "pub_rec_bankruptcies    6   17\n",
       "purpose                11   19\n",
       "revol_util_bin         16   17"
      ]
     },
     "execution_count": 42,
     "metadata": {},
     "output_type": "execute_result"
    }
   ],
   "source": [
    "# Calculate the min and max points for each characteristic\n",
    "grouped_char = scorecards.groupby('Characteristic')\n",
    "grouped_points = grouped_char['Points'].agg(['min', 'max'])\n",
    "grouped_points"
   ]
  },
  {
   "cell_type": "code",
   "execution_count": 43,
   "metadata": {},
   "outputs": [
    {
     "name": "stdout",
     "output_type": "stream",
     "text": [
      "The lowest credit score = 146\n",
      "The highest credit score = 230\n"
     ]
    }
   ],
   "source": [
    "# Calculate the min and max score from the scorecards\n",
    "total_points = grouped_points.sum()\n",
    "min_score = total_points['min']\n",
    "max_score = total_points['max']\n",
    "\n",
    "print(f\"The lowest credit score = {min_score}\")\n",
    "print(f\"The highest credit score = {max_score}\")"
   ]
  },
  {
   "cell_type": "markdown",
   "metadata": {},
   "source": [
    "### **6.2 Predict Credit Score**\n",
    "---"
   ]
  },
  {
   "cell_type": "markdown",
   "metadata": {},
   "source": [
    "First, create point map dictionary for each attribute."
   ]
  },
  {
   "cell_type": "code",
   "execution_count": 44,
   "metadata": {},
   "outputs": [],
   "source": [
    "# Function to generate the points map dictionary\n",
    "def get_points_map_dict(scorecards):\n",
    "\n",
    "    # Initialize the dictionary\n",
    "    points_map_dict = {}\n",
    "    points_map_dict['missing'] = {}\n",
    "    unique_char = set(scorecards['Characteristic'])\n",
    "    for char in unique_char:\n",
    "        # Get the Attribute & WOE info for each characteristics\n",
    "        current_data = (scorecards\n",
    "                            [scorecards['Characteristic']==char]     # Filter based on characteristic\n",
    "                            [['Attribute', 'Points']])               # Then select the attribute & WOE\n",
    "\n",
    "        # Get the mapping\n",
    "        points_map_dict[char] = {}\n",
    "        for idx in current_data.index:\n",
    "            attribute = current_data.loc[idx, 'Attribute']\n",
    "            points = current_data.loc[idx, 'Points']\n",
    "\n",
    "            if attribute == 'missing':\n",
    "                points_map_dict['missing'][char] = points\n",
    "            else:\n",
    "                points_map_dict[char][attribute] = points\n",
    "                points_map_dict['missing'][char] = np.nan\n",
    "\n",
    "    return points_map_dict"
   ]
  },
  {
   "cell_type": "code",
   "execution_count": 45,
   "metadata": {},
   "outputs": [],
   "source": [
    "# Generate the points map dict\n",
    "points_map_dict = get_points_map_dict(scorecards = scorecards)"
   ]
  },
  {
   "cell_type": "markdown",
   "metadata": {},
   "source": [
    "Second, transform the raw input valuee into the score point. In this process, we need some adjustment to raw data based on EDA process."
   ]
  },
  {
   "cell_type": "code",
   "execution_count": 46,
   "metadata": {},
   "outputs": [],
   "source": [
    "def transform_points(raw_data, points_map_dict, num_cols):\n",
    "\n",
    "    points_data = raw_data.copy()\n",
    "\n",
    "    # Replace 'emp_length' with numeric value\n",
    "    points_data['emp_length'].replace({'< 1 year': 0, '1 year': 1, '2 years': 2, '3 years': 3,\n",
    "                                    '4 years': 4, '5 years': 5, '6 years': 6, '7 years': 7,\n",
    "                                    '8 years': 8, '9 years': 9, '10+ years': 10},\n",
    "                                    inplace = True)\n",
    "\n",
    "    points_data['emp_length'] = pd.to_numeric(points_data['emp_length'])\n",
    "\n",
    "    # Replace some attributes on 'home_ownership' based on eda\n",
    "    points_data['home_ownership'].replace(['NONE', 'ANY'],\n",
    "                                        'OTHER',\n",
    "                                        inplace = True)\n",
    "\n",
    "    # Binning value more than 2 as 3 for some characteristics\n",
    "    num_to_cat = ['pub_rec', 'pub_rec_bankruptcies', 'delinq_2yrs', 'mort_acc']\n",
    "    for column in num_to_cat:\n",
    "        points_data[column] = points_data[column].map(lambda x: 3 if x > 2 else x)\n",
    "\n",
    "    # Get all columns from best predictors\n",
    "    best_cols = best_model_summary['Characteristic']\n",
    "\n",
    "    # Adjustment to numerical predictors by add '_bin'\n",
    "    num_columns_bins = []\n",
    "    for col in num_columns:\n",
    "        num_columns_bins.append(col+'_bin')\n",
    "    \n",
    "    # Remove '_bin' of numerical predictors from best predictors\n",
    "    new_best_cols = []\n",
    "    for col in best_cols:\n",
    "        if col in num_columns_bins:\n",
    "            new_best_cols.append(col[:-4])\n",
    "        else:\n",
    "            new_best_cols.append(col)\n",
    "        \n",
    "    # Define remaining num columns on best predictors\n",
    "    num_cols = list(set(num_columns) & set(new_best_cols))\n",
    "    \n",
    "    # Keep data with columns on best predictors \n",
    "    points_data = points_data[new_best_cols[1:]]\n",
    "\n",
    "    # Map the data\n",
    "    for col in points_data.columns:\n",
    "        if col in num_cols:\n",
    "            map_col = col + '_bin'\n",
    "        else:\n",
    "            map_col = col\n",
    "\n",
    "        points_data[col] = points_data[col].map(points_map_dict[map_col])\n",
    "\n",
    "    # Map the data if there is a missing value or out of range value\n",
    "    for col in points_data.columns:\n",
    "        if col in num_cols:\n",
    "            map_col = col + '_bin'\n",
    "        else:\n",
    "            map_col = col\n",
    "\n",
    "        points_data[col] = points_data[col].fillna(value=points_map_dict['missing'][map_col])\n",
    "\n",
    "    return points_data"
   ]
  },
  {
   "cell_type": "markdown",
   "metadata": {},
   "source": [
    "#### Predict Score on Train Set"
   ]
  },
  {
   "cell_type": "code",
   "execution_count": 47,
   "metadata": {},
   "outputs": [
    {
     "data": {
      "text/html": [
       "<div>\n",
       "<style scoped>\n",
       "    .dataframe tbody tr th:only-of-type {\n",
       "        vertical-align: middle;\n",
       "    }\n",
       "\n",
       "    .dataframe tbody tr th {\n",
       "        vertical-align: top;\n",
       "    }\n",
       "\n",
       "    .dataframe thead th {\n",
       "        text-align: right;\n",
       "    }\n",
       "</style>\n",
       "<table border=\"1\" class=\"dataframe\">\n",
       "  <thead>\n",
       "    <tr style=\"text-align: right;\">\n",
       "      <th></th>\n",
       "      <th>loan_amnt</th>\n",
       "      <th>int_rate</th>\n",
       "      <th>grade</th>\n",
       "      <th>emp_length</th>\n",
       "      <th>home_ownership</th>\n",
       "      <th>annual_inc</th>\n",
       "      <th>verification_status</th>\n",
       "      <th>loan_status</th>\n",
       "      <th>purpose</th>\n",
       "      <th>addr_state</th>\n",
       "      <th>...</th>\n",
       "      <th>mo_sin_old_il_acct</th>\n",
       "      <th>mo_sin_old_rev_tl_op</th>\n",
       "      <th>mort_acc</th>\n",
       "      <th>num_bc_tl</th>\n",
       "      <th>num_il_tl</th>\n",
       "      <th>num_op_rev_tl</th>\n",
       "      <th>num_rev_accts</th>\n",
       "      <th>num_rev_tl_bal_gt_0</th>\n",
       "      <th>num_sats</th>\n",
       "      <th>pub_rec_bankruptcies</th>\n",
       "    </tr>\n",
       "  </thead>\n",
       "  <tbody>\n",
       "    <tr>\n",
       "      <th>0</th>\n",
       "      <td>9975.0</td>\n",
       "      <td>17.57</td>\n",
       "      <td>D</td>\n",
       "      <td>1 year</td>\n",
       "      <td>RENT</td>\n",
       "      <td>26500.0</td>\n",
       "      <td>Not Verified</td>\n",
       "      <td>1</td>\n",
       "      <td>credit_card</td>\n",
       "      <td>CA</td>\n",
       "      <td>...</td>\n",
       "      <td>82.0</td>\n",
       "      <td>307.0</td>\n",
       "      <td>0.0</td>\n",
       "      <td>12.0</td>\n",
       "      <td>1.0</td>\n",
       "      <td>13.0</td>\n",
       "      <td>16.0</td>\n",
       "      <td>11.0</td>\n",
       "      <td>13.0</td>\n",
       "      <td>1.0</td>\n",
       "    </tr>\n",
       "    <tr>\n",
       "      <th>1</th>\n",
       "      <td>5000.0</td>\n",
       "      <td>12.69</td>\n",
       "      <td>C</td>\n",
       "      <td>NaN</td>\n",
       "      <td>RENT</td>\n",
       "      <td>30000.0</td>\n",
       "      <td>Verified</td>\n",
       "      <td>0</td>\n",
       "      <td>debt_consolidation</td>\n",
       "      <td>WA</td>\n",
       "      <td>...</td>\n",
       "      <td>43.0</td>\n",
       "      <td>122.0</td>\n",
       "      <td>0.0</td>\n",
       "      <td>9.0</td>\n",
       "      <td>2.0</td>\n",
       "      <td>13.0</td>\n",
       "      <td>16.0</td>\n",
       "      <td>11.0</td>\n",
       "      <td>14.0</td>\n",
       "      <td>0.0</td>\n",
       "    </tr>\n",
       "    <tr>\n",
       "      <th>2</th>\n",
       "      <td>6000.0</td>\n",
       "      <td>16.55</td>\n",
       "      <td>D</td>\n",
       "      <td>&lt; 1 year</td>\n",
       "      <td>RENT</td>\n",
       "      <td>54000.0</td>\n",
       "      <td>Verified</td>\n",
       "      <td>0</td>\n",
       "      <td>moving</td>\n",
       "      <td>KS</td>\n",
       "      <td>...</td>\n",
       "      <td>84.0</td>\n",
       "      <td>70.0</td>\n",
       "      <td>0.0</td>\n",
       "      <td>2.0</td>\n",
       "      <td>5.0</td>\n",
       "      <td>4.0</td>\n",
       "      <td>5.0</td>\n",
       "      <td>2.0</td>\n",
       "      <td>6.0</td>\n",
       "      <td>0.0</td>\n",
       "    </tr>\n",
       "    <tr>\n",
       "      <th>3</th>\n",
       "      <td>20000.0</td>\n",
       "      <td>16.59</td>\n",
       "      <td>D</td>\n",
       "      <td>&lt; 1 year</td>\n",
       "      <td>RENT</td>\n",
       "      <td>50000.0</td>\n",
       "      <td>Verified</td>\n",
       "      <td>0</td>\n",
       "      <td>debt_consolidation</td>\n",
       "      <td>NY</td>\n",
       "      <td>...</td>\n",
       "      <td>4.0</td>\n",
       "      <td>78.0</td>\n",
       "      <td>0.0</td>\n",
       "      <td>7.0</td>\n",
       "      <td>1.0</td>\n",
       "      <td>5.0</td>\n",
       "      <td>7.0</td>\n",
       "      <td>4.0</td>\n",
       "      <td>7.0</td>\n",
       "      <td>0.0</td>\n",
       "    </tr>\n",
       "    <tr>\n",
       "      <th>4</th>\n",
       "      <td>16000.0</td>\n",
       "      <td>7.89</td>\n",
       "      <td>A</td>\n",
       "      <td>10+ years</td>\n",
       "      <td>RENT</td>\n",
       "      <td>87000.0</td>\n",
       "      <td>Source Verified</td>\n",
       "      <td>0</td>\n",
       "      <td>credit_card</td>\n",
       "      <td>CO</td>\n",
       "      <td>...</td>\n",
       "      <td>192.0</td>\n",
       "      <td>227.0</td>\n",
       "      <td>0.0</td>\n",
       "      <td>8.0</td>\n",
       "      <td>9.0</td>\n",
       "      <td>11.0</td>\n",
       "      <td>14.0</td>\n",
       "      <td>9.0</td>\n",
       "      <td>14.0</td>\n",
       "      <td>0.0</td>\n",
       "    </tr>\n",
       "    <tr>\n",
       "      <th>...</th>\n",
       "      <td>...</td>\n",
       "      <td>...</td>\n",
       "      <td>...</td>\n",
       "      <td>...</td>\n",
       "      <td>...</td>\n",
       "      <td>...</td>\n",
       "      <td>...</td>\n",
       "      <td>...</td>\n",
       "      <td>...</td>\n",
       "      <td>...</td>\n",
       "      <td>...</td>\n",
       "      <td>...</td>\n",
       "      <td>...</td>\n",
       "      <td>...</td>\n",
       "      <td>...</td>\n",
       "      <td>...</td>\n",
       "      <td>...</td>\n",
       "      <td>...</td>\n",
       "      <td>...</td>\n",
       "      <td>...</td>\n",
       "      <td>...</td>\n",
       "    </tr>\n",
       "    <tr>\n",
       "      <th>434710</th>\n",
       "      <td>25000.0</td>\n",
       "      <td>8.39</td>\n",
       "      <td>A</td>\n",
       "      <td>10+ years</td>\n",
       "      <td>OWN</td>\n",
       "      <td>77000.0</td>\n",
       "      <td>Source Verified</td>\n",
       "      <td>0</td>\n",
       "      <td>debt_consolidation</td>\n",
       "      <td>GA</td>\n",
       "      <td>...</td>\n",
       "      <td>156.0</td>\n",
       "      <td>178.0</td>\n",
       "      <td>3.0</td>\n",
       "      <td>4.0</td>\n",
       "      <td>13.0</td>\n",
       "      <td>7.0</td>\n",
       "      <td>11.0</td>\n",
       "      <td>6.0</td>\n",
       "      <td>15.0</td>\n",
       "      <td>0.0</td>\n",
       "    </tr>\n",
       "    <tr>\n",
       "      <th>434711</th>\n",
       "      <td>35000.0</td>\n",
       "      <td>9.17</td>\n",
       "      <td>B</td>\n",
       "      <td>3 years</td>\n",
       "      <td>OWN</td>\n",
       "      <td>203000.0</td>\n",
       "      <td>Source Verified</td>\n",
       "      <td>0</td>\n",
       "      <td>home_improvement</td>\n",
       "      <td>IL</td>\n",
       "      <td>...</td>\n",
       "      <td>130.0</td>\n",
       "      <td>155.0</td>\n",
       "      <td>4.0</td>\n",
       "      <td>10.0</td>\n",
       "      <td>2.0</td>\n",
       "      <td>4.0</td>\n",
       "      <td>14.0</td>\n",
       "      <td>2.0</td>\n",
       "      <td>9.0</td>\n",
       "      <td>1.0</td>\n",
       "    </tr>\n",
       "    <tr>\n",
       "      <th>434712</th>\n",
       "      <td>5000.0</td>\n",
       "      <td>15.61</td>\n",
       "      <td>C</td>\n",
       "      <td>4 years</td>\n",
       "      <td>MORTGAGE</td>\n",
       "      <td>26000.0</td>\n",
       "      <td>Verified</td>\n",
       "      <td>0</td>\n",
       "      <td>home_improvement</td>\n",
       "      <td>SC</td>\n",
       "      <td>...</td>\n",
       "      <td>NaN</td>\n",
       "      <td>178.0</td>\n",
       "      <td>1.0</td>\n",
       "      <td>5.0</td>\n",
       "      <td>0.0</td>\n",
       "      <td>4.0</td>\n",
       "      <td>6.0</td>\n",
       "      <td>3.0</td>\n",
       "      <td>5.0</td>\n",
       "      <td>0.0</td>\n",
       "    </tr>\n",
       "    <tr>\n",
       "      <th>434713</th>\n",
       "      <td>5000.0</td>\n",
       "      <td>13.33</td>\n",
       "      <td>C</td>\n",
       "      <td>2 years</td>\n",
       "      <td>RENT</td>\n",
       "      <td>24000.0</td>\n",
       "      <td>Not Verified</td>\n",
       "      <td>0</td>\n",
       "      <td>debt_consolidation</td>\n",
       "      <td>WA</td>\n",
       "      <td>...</td>\n",
       "      <td>NaN</td>\n",
       "      <td>93.0</td>\n",
       "      <td>0.0</td>\n",
       "      <td>5.0</td>\n",
       "      <td>0.0</td>\n",
       "      <td>4.0</td>\n",
       "      <td>5.0</td>\n",
       "      <td>4.0</td>\n",
       "      <td>4.0</td>\n",
       "      <td>0.0</td>\n",
       "    </tr>\n",
       "    <tr>\n",
       "      <th>434714</th>\n",
       "      <td>12000.0</td>\n",
       "      <td>7.49</td>\n",
       "      <td>A</td>\n",
       "      <td>&lt; 1 year</td>\n",
       "      <td>RENT</td>\n",
       "      <td>115000.0</td>\n",
       "      <td>Not Verified</td>\n",
       "      <td>0</td>\n",
       "      <td>credit_card</td>\n",
       "      <td>CA</td>\n",
       "      <td>...</td>\n",
       "      <td>122.0</td>\n",
       "      <td>156.0</td>\n",
       "      <td>1.0</td>\n",
       "      <td>16.0</td>\n",
       "      <td>20.0</td>\n",
       "      <td>10.0</td>\n",
       "      <td>18.0</td>\n",
       "      <td>5.0</td>\n",
       "      <td>20.0</td>\n",
       "      <td>0.0</td>\n",
       "    </tr>\n",
       "  </tbody>\n",
       "</table>\n",
       "<p>434715 rows × 31 columns</p>\n",
       "</div>"
      ],
      "text/plain": [
       "        loan_amnt  int_rate grade emp_length home_ownership  annual_inc   \n",
       "0          9975.0     17.57     D     1 year           RENT     26500.0  \\\n",
       "1          5000.0     12.69     C        NaN           RENT     30000.0   \n",
       "2          6000.0     16.55     D   < 1 year           RENT     54000.0   \n",
       "3         20000.0     16.59     D   < 1 year           RENT     50000.0   \n",
       "4         16000.0      7.89     A  10+ years           RENT     87000.0   \n",
       "...           ...       ...   ...        ...            ...         ...   \n",
       "434710    25000.0      8.39     A  10+ years            OWN     77000.0   \n",
       "434711    35000.0      9.17     B    3 years            OWN    203000.0   \n",
       "434712     5000.0     15.61     C    4 years       MORTGAGE     26000.0   \n",
       "434713     5000.0     13.33     C    2 years           RENT     24000.0   \n",
       "434714    12000.0      7.49     A   < 1 year           RENT    115000.0   \n",
       "\n",
       "       verification_status  loan_status             purpose addr_state  ...   \n",
       "0             Not Verified            1         credit_card         CA  ...  \\\n",
       "1                 Verified            0  debt_consolidation         WA  ...   \n",
       "2                 Verified            0              moving         KS  ...   \n",
       "3                 Verified            0  debt_consolidation         NY  ...   \n",
       "4          Source Verified            0         credit_card         CO  ...   \n",
       "...                    ...          ...                 ...        ...  ...   \n",
       "434710     Source Verified            0  debt_consolidation         GA  ...   \n",
       "434711     Source Verified            0    home_improvement         IL  ...   \n",
       "434712            Verified            0    home_improvement         SC  ...   \n",
       "434713        Not Verified            0  debt_consolidation         WA  ...   \n",
       "434714        Not Verified            0         credit_card         CA  ...   \n",
       "\n",
       "        mo_sin_old_il_acct  mo_sin_old_rev_tl_op mort_acc  num_bc_tl   \n",
       "0                     82.0                 307.0      0.0       12.0  \\\n",
       "1                     43.0                 122.0      0.0        9.0   \n",
       "2                     84.0                  70.0      0.0        2.0   \n",
       "3                      4.0                  78.0      0.0        7.0   \n",
       "4                    192.0                 227.0      0.0        8.0   \n",
       "...                    ...                   ...      ...        ...   \n",
       "434710               156.0                 178.0      3.0        4.0   \n",
       "434711               130.0                 155.0      4.0       10.0   \n",
       "434712                 NaN                 178.0      1.0        5.0   \n",
       "434713                 NaN                  93.0      0.0        5.0   \n",
       "434714               122.0                 156.0      1.0       16.0   \n",
       "\n",
       "        num_il_tl  num_op_rev_tl  num_rev_accts  num_rev_tl_bal_gt_0   \n",
       "0             1.0           13.0           16.0                 11.0  \\\n",
       "1             2.0           13.0           16.0                 11.0   \n",
       "2             5.0            4.0            5.0                  2.0   \n",
       "3             1.0            5.0            7.0                  4.0   \n",
       "4             9.0           11.0           14.0                  9.0   \n",
       "...           ...            ...            ...                  ...   \n",
       "434710       13.0            7.0           11.0                  6.0   \n",
       "434711        2.0            4.0           14.0                  2.0   \n",
       "434712        0.0            4.0            6.0                  3.0   \n",
       "434713        0.0            4.0            5.0                  4.0   \n",
       "434714       20.0           10.0           18.0                  5.0   \n",
       "\n",
       "        num_sats pub_rec_bankruptcies  \n",
       "0           13.0                  1.0  \n",
       "1           14.0                  0.0  \n",
       "2            6.0                  0.0  \n",
       "3            7.0                  0.0  \n",
       "4           14.0                  0.0  \n",
       "...          ...                  ...  \n",
       "434710      15.0                  0.0  \n",
       "434711       9.0                  1.0  \n",
       "434712       5.0                  0.0  \n",
       "434713       4.0                  0.0  \n",
       "434714      20.0                  0.0  \n",
       "\n",
       "[434715 rows x 31 columns]"
      ]
     },
     "execution_count": 47,
     "metadata": {},
     "output_type": "execute_result"
    }
   ],
   "source": [
    "# Import train dataset\n",
    "raw_train = pd.read_csv('train.csv')\n",
    "\n",
    "raw_train"
   ]
  },
  {
   "cell_type": "code",
   "execution_count": 48,
   "metadata": {},
   "outputs": [
    {
     "data": {
      "text/html": [
       "<div>\n",
       "<style scoped>\n",
       "    .dataframe tbody tr th:only-of-type {\n",
       "        vertical-align: middle;\n",
       "    }\n",
       "\n",
       "    .dataframe tbody tr th {\n",
       "        vertical-align: top;\n",
       "    }\n",
       "\n",
       "    .dataframe thead th {\n",
       "        text-align: right;\n",
       "    }\n",
       "</style>\n",
       "<table border=\"1\" class=\"dataframe\">\n",
       "  <thead>\n",
       "    <tr style=\"text-align: right;\">\n",
       "      <th></th>\n",
       "      <th>purpose</th>\n",
       "      <th>pub_rec</th>\n",
       "      <th>pub_rec_bankruptcies</th>\n",
       "      <th>application_type</th>\n",
       "      <th>int_rate</th>\n",
       "      <th>emp_length</th>\n",
       "      <th>revol_util</th>\n",
       "      <th>num_il_tl</th>\n",
       "      <th>num_bc_tl</th>\n",
       "      <th>num_rev_accts</th>\n",
       "      <th>loan_amnt</th>\n",
       "      <th>delinq_2yrs</th>\n",
       "    </tr>\n",
       "  </thead>\n",
       "  <tbody>\n",
       "    <tr>\n",
       "      <th>0</th>\n",
       "      <td>18</td>\n",
       "      <td>16.0</td>\n",
       "      <td>14.0</td>\n",
       "      <td>16</td>\n",
       "      <td>0</td>\n",
       "      <td>16.0</td>\n",
       "      <td>16.0</td>\n",
       "      <td>16.0</td>\n",
       "      <td>16.0</td>\n",
       "      <td>16.0</td>\n",
       "      <td>16</td>\n",
       "      <td>17.0</td>\n",
       "    </tr>\n",
       "    <tr>\n",
       "      <th>1</th>\n",
       "      <td>16</td>\n",
       "      <td>16.0</td>\n",
       "      <td>17.0</td>\n",
       "      <td>16</td>\n",
       "      <td>12</td>\n",
       "      <td>4.0</td>\n",
       "      <td>16.0</td>\n",
       "      <td>16.0</td>\n",
       "      <td>16.0</td>\n",
       "      <td>16.0</td>\n",
       "      <td>16</td>\n",
       "      <td>17.0</td>\n",
       "    </tr>\n",
       "    <tr>\n",
       "      <th>2</th>\n",
       "      <td>13</td>\n",
       "      <td>16.0</td>\n",
       "      <td>17.0</td>\n",
       "      <td>16</td>\n",
       "      <td>0</td>\n",
       "      <td>16.0</td>\n",
       "      <td>17.0</td>\n",
       "      <td>16.0</td>\n",
       "      <td>16.0</td>\n",
       "      <td>17.0</td>\n",
       "      <td>16</td>\n",
       "      <td>17.0</td>\n",
       "    </tr>\n",
       "    <tr>\n",
       "      <th>3</th>\n",
       "      <td>16</td>\n",
       "      <td>16.0</td>\n",
       "      <td>17.0</td>\n",
       "      <td>16</td>\n",
       "      <td>0</td>\n",
       "      <td>16.0</td>\n",
       "      <td>16.0</td>\n",
       "      <td>16.0</td>\n",
       "      <td>16.0</td>\n",
       "      <td>17.0</td>\n",
       "      <td>17</td>\n",
       "      <td>17.0</td>\n",
       "    </tr>\n",
       "    <tr>\n",
       "      <th>4</th>\n",
       "      <td>18</td>\n",
       "      <td>16.0</td>\n",
       "      <td>17.0</td>\n",
       "      <td>16</td>\n",
       "      <td>43</td>\n",
       "      <td>18.0</td>\n",
       "      <td>16.0</td>\n",
       "      <td>17.0</td>\n",
       "      <td>16.0</td>\n",
       "      <td>16.0</td>\n",
       "      <td>16</td>\n",
       "      <td>17.0</td>\n",
       "    </tr>\n",
       "  </tbody>\n",
       "</table>\n",
       "</div>"
      ],
      "text/plain": [
       "   purpose  pub_rec  pub_rec_bankruptcies  application_type  int_rate   \n",
       "0       18     16.0                  14.0                16         0  \\\n",
       "1       16     16.0                  17.0                16        12   \n",
       "2       13     16.0                  17.0                16         0   \n",
       "3       16     16.0                  17.0                16         0   \n",
       "4       18     16.0                  17.0                16        43   \n",
       "\n",
       "   emp_length  revol_util  num_il_tl  num_bc_tl  num_rev_accts  loan_amnt   \n",
       "0        16.0        16.0       16.0       16.0           16.0         16  \\\n",
       "1         4.0        16.0       16.0       16.0           16.0         16   \n",
       "2        16.0        17.0       16.0       16.0           17.0         16   \n",
       "3        16.0        16.0       16.0       16.0           17.0         17   \n",
       "4        18.0        16.0       17.0       16.0           16.0         16   \n",
       "\n",
       "   delinq_2yrs  \n",
       "0         17.0  \n",
       "1         17.0  \n",
       "2         17.0  \n",
       "3         17.0  \n",
       "4         17.0  "
      ]
     },
     "execution_count": 48,
     "metadata": {},
     "output_type": "execute_result"
    }
   ],
   "source": [
    "# Transform the raw values in X_train into points\n",
    "train_points = transform_points(raw_data = raw_train,\n",
    "                                points_map_dict = points_map_dict,\n",
    "                                num_cols = num_columns)\n",
    "\n",
    "train_points.head()"
   ]
  },
  {
   "cell_type": "code",
   "execution_count": 49,
   "metadata": {},
   "outputs": [],
   "source": [
    "# Calculate the total score\n",
    "train_points['Score'] = train_points.sum(axis=1).astype(int)"
   ]
  },
  {
   "cell_type": "code",
   "execution_count": 50,
   "metadata": {},
   "outputs": [
    {
     "data": {
      "text/plain": [
       "<Axes: xlabel='Score', ylabel='Count'>"
      ]
     },
     "execution_count": 50,
     "metadata": {},
     "output_type": "execute_result"
    },
    {
     "data": {
      "image/png": "[encoded data removed]",
      "text/plain": [
       "<Figure size 432x288 with 1 Axes>"
      ]
     },
     "metadata": {
      "needs_background": "light"
     },
     "output_type": "display_data"
    }
   ],
   "source": [
    "# Distribution plot of predicted score\n",
    "sns.histplot(x = train_points['Score'],\n",
    "             kde = True)"
   ]
  },
  {
   "cell_type": "markdown",
   "metadata": {},
   "source": [
    "### **6.3 Setting Cutoff**\n",
    "---"
   ]
  },
  {
   "cell_type": "markdown",
   "metadata": {},
   "source": [
    "#### **Estimate the Expected Approval Rate**"
   ]
  },
  {
   "cell_type": "code",
   "execution_count": 51,
   "metadata": {},
   "outputs": [
    {
     "data": {
      "text/html": [
       "<div>\n",
       "<style scoped>\n",
       "    .dataframe tbody tr th:only-of-type {\n",
       "        vertical-align: middle;\n",
       "    }\n",
       "\n",
       "    .dataframe tbody tr th {\n",
       "        vertical-align: top;\n",
       "    }\n",
       "\n",
       "    .dataframe thead th {\n",
       "        text-align: right;\n",
       "    }\n",
       "</style>\n",
       "<table border=\"1\" class=\"dataframe\">\n",
       "  <thead>\n",
       "    <tr style=\"text-align: right;\">\n",
       "      <th></th>\n",
       "      <th>Cutoff</th>\n",
       "      <th>Expected Approval Rate</th>\n",
       "    </tr>\n",
       "  </thead>\n",
       "  <tbody>\n",
       "    <tr>\n",
       "      <th>0</th>\n",
       "      <td>146</td>\n",
       "      <td>0.999998</td>\n",
       "    </tr>\n",
       "    <tr>\n",
       "      <th>1</th>\n",
       "      <td>147</td>\n",
       "      <td>0.999998</td>\n",
       "    </tr>\n",
       "    <tr>\n",
       "      <th>2</th>\n",
       "      <td>148</td>\n",
       "      <td>0.999995</td>\n",
       "    </tr>\n",
       "    <tr>\n",
       "      <th>3</th>\n",
       "      <td>149</td>\n",
       "      <td>0.999995</td>\n",
       "    </tr>\n",
       "    <tr>\n",
       "      <th>4</th>\n",
       "      <td>150</td>\n",
       "      <td>0.999995</td>\n",
       "    </tr>\n",
       "    <tr>\n",
       "      <th>...</th>\n",
       "      <td>...</td>\n",
       "      <td>...</td>\n",
       "    </tr>\n",
       "    <tr>\n",
       "      <th>79</th>\n",
       "      <td>225</td>\n",
       "      <td>0.105320</td>\n",
       "    </tr>\n",
       "    <tr>\n",
       "      <th>80</th>\n",
       "      <td>226</td>\n",
       "      <td>0.055420</td>\n",
       "    </tr>\n",
       "    <tr>\n",
       "      <th>81</th>\n",
       "      <td>227</td>\n",
       "      <td>0.019972</td>\n",
       "    </tr>\n",
       "    <tr>\n",
       "      <th>82</th>\n",
       "      <td>228</td>\n",
       "      <td>0.003290</td>\n",
       "    </tr>\n",
       "    <tr>\n",
       "      <th>83</th>\n",
       "      <td>229</td>\n",
       "      <td>0.000124</td>\n",
       "    </tr>\n",
       "  </tbody>\n",
       "</table>\n",
       "<p>84 rows × 2 columns</p>\n",
       "</div>"
      ],
      "text/plain": [
       "    Cutoff  Expected Approval Rate\n",
       "0      146                0.999998\n",
       "1      147                0.999998\n",
       "2      148                0.999995\n",
       "3      149                0.999995\n",
       "4      150                0.999995\n",
       "..     ...                     ...\n",
       "79     225                0.105320\n",
       "80     226                0.055420\n",
       "81     227                0.019972\n",
       "82     228                0.003290\n",
       "83     229                0.000124\n",
       "\n",
       "[84 rows x 2 columns]"
      ]
     },
     "execution_count": 51,
     "metadata": {},
     "output_type": "execute_result"
    }
   ],
   "source": [
    "cutoff_list = []\n",
    "approval_rate_list = []\n",
    "\n",
    "for cutoff in range (int(min_score), int(max_score)):\n",
    "\n",
    "  cutoff_list.append(cutoff)\n",
    "\n",
    "  approve_counts = len(train_points[train_points['Score'] >= cutoff])\n",
    "  n_sample = len(train_points)\n",
    "\n",
    "  approval_rate = approve_counts/n_sample\n",
    "\n",
    "  approval_rate_list.append(approval_rate)\n",
    "\n",
    "approval_rate_table = pd.DataFrame({'Cutoff' : cutoff_list,\n",
    "                                    'Expected Approval Rate' : approval_rate_list})\n",
    "\n",
    "approval_rate_table"
   ]
  },
  {
   "cell_type": "code",
   "execution_count": 52,
   "metadata": {},
   "outputs": [
    {
     "data": {
      "image/png": "[encoded data removed]",
      "text/plain": [
       "<Figure size 432x288 with 1 Axes>"
      ]
     },
     "metadata": {
      "needs_background": "light"
     },
     "output_type": "display_data"
    }
   ],
   "source": [
    "# Plot the approval rate\n",
    "plt.plot(approval_rate_table['Cutoff'],\n",
    "         approval_rate_table['Expected Approval Rate'],\n",
    "         label = \"Expected Approval Rate\")\n",
    "\n",
    "plt.xlabel('Cutoff Score')\n",
    "plt.ylabel('Approval Rate (Expected)')\n",
    "plt.show()"
   ]
  },
  {
   "cell_type": "markdown",
   "metadata": {},
   "source": [
    "#### **Estimate the Expected Bad Rate**"
   ]
  },
  {
   "cell_type": "code",
   "execution_count": 55,
   "metadata": {},
   "outputs": [
    {
     "data": {
      "text/html": [
       "<div>\n",
       "<style scoped>\n",
       "    .dataframe tbody tr th:only-of-type {\n",
       "        vertical-align: middle;\n",
       "    }\n",
       "\n",
       "    .dataframe tbody tr th {\n",
       "        vertical-align: top;\n",
       "    }\n",
       "\n",
       "    .dataframe thead th {\n",
       "        text-align: right;\n",
       "    }\n",
       "</style>\n",
       "<table border=\"1\" class=\"dataframe\">\n",
       "  <thead>\n",
       "    <tr style=\"text-align: right;\">\n",
       "      <th></th>\n",
       "      <th>Cutoff</th>\n",
       "      <th>Expected Bad Rate</th>\n",
       "    </tr>\n",
       "  </thead>\n",
       "  <tbody>\n",
       "    <tr>\n",
       "      <th>0</th>\n",
       "      <td>146</td>\n",
       "      <td>0.139452</td>\n",
       "    </tr>\n",
       "    <tr>\n",
       "      <th>1</th>\n",
       "      <td>147</td>\n",
       "      <td>0.139452</td>\n",
       "    </tr>\n",
       "    <tr>\n",
       "      <th>2</th>\n",
       "      <td>148</td>\n",
       "      <td>0.139452</td>\n",
       "    </tr>\n",
       "    <tr>\n",
       "      <th>3</th>\n",
       "      <td>149</td>\n",
       "      <td>0.139452</td>\n",
       "    </tr>\n",
       "    <tr>\n",
       "      <th>4</th>\n",
       "      <td>150</td>\n",
       "      <td>0.139452</td>\n",
       "    </tr>\n",
       "    <tr>\n",
       "      <th>...</th>\n",
       "      <td>...</td>\n",
       "      <td>...</td>\n",
       "    </tr>\n",
       "    <tr>\n",
       "      <th>79</th>\n",
       "      <td>225</td>\n",
       "      <td>0.005256</td>\n",
       "    </tr>\n",
       "    <tr>\n",
       "      <th>80</th>\n",
       "      <td>226</td>\n",
       "      <td>0.002657</td>\n",
       "    </tr>\n",
       "    <tr>\n",
       "      <th>81</th>\n",
       "      <td>227</td>\n",
       "      <td>0.000865</td>\n",
       "    </tr>\n",
       "    <tr>\n",
       "      <th>82</th>\n",
       "      <td>228</td>\n",
       "      <td>0.000124</td>\n",
       "    </tr>\n",
       "    <tr>\n",
       "      <th>83</th>\n",
       "      <td>229</td>\n",
       "      <td>0.000002</td>\n",
       "    </tr>\n",
       "  </tbody>\n",
       "</table>\n",
       "<p>84 rows × 2 columns</p>\n",
       "</div>"
      ],
      "text/plain": [
       "    Cutoff  Expected Bad Rate\n",
       "0      146           0.139452\n",
       "1      147           0.139452\n",
       "2      148           0.139452\n",
       "3      149           0.139452\n",
       "4      150           0.139452\n",
       "..     ...                ...\n",
       "79     225           0.005256\n",
       "80     226           0.002657\n",
       "81     227           0.000865\n",
       "82     228           0.000124\n",
       "83     229           0.000002\n",
       "\n",
       "[84 rows x 2 columns]"
      ]
     },
     "execution_count": 55,
     "metadata": {},
     "output_type": "execute_result"
    }
   ],
   "source": [
    "train_points['Response'] = raw_train['loan_status']\n",
    "\n",
    "cutoff_list = []\n",
    "bad_rate_list = []\n",
    "\n",
    "for cutoff in range (int(min_score), int(max_score)):\n",
    "\n",
    "  cutoff_list.append(cutoff)\n",
    "\n",
    "  bad_counts = len(train_points[(train_points['Score'] >= cutoff) & (train_points['Response'] == 1)])\n",
    "  n_sample = len(train_points)\n",
    "\n",
    "  bad_rate = bad_counts/n_sample\n",
    "\n",
    "  bad_rate_list.append(bad_rate)\n",
    "\n",
    "bad_rate_table = pd.DataFrame({'Cutoff' : cutoff_list,\n",
    "                               'Expected Bad Rate' : bad_rate_list})\n",
    "\n",
    "bad_rate_table"
   ]
  },
  {
   "cell_type": "code",
   "execution_count": 56,
   "metadata": {},
   "outputs": [
    {
     "data": {
      "image/png": "[encoded data removed]",
      "text/plain": [
       "<Figure size 432x288 with 1 Axes>"
      ]
     },
     "metadata": {
      "needs_background": "light"
     },
     "output_type": "display_data"
    }
   ],
   "source": [
    "# Plot the approval rate\n",
    "plt.plot(approval_rate_table['Cutoff'],\n",
    "         approval_rate_table['Expected Approval Rate'],\n",
    "         label = \"Expected Approval Rate\")\n",
    "\n",
    "# Plot the expected bad rate\n",
    "plt.plot(bad_rate_table['Cutoff'],\n",
    "         bad_rate_table['Expected Bad Rate'],\n",
    "         label = \"Expected Bad Rate\",\n",
    "         color = 'orange')\n",
    "\n",
    "plt.ylabel(\"Expected Rate\")\n",
    "plt.xlabel(\"Cutoff Score\")\n",
    "plt.legend(loc = 1)\n",
    "plt.show()"
   ]
  },
  {
   "cell_type": "markdown",
   "metadata": {},
   "source": [
    "#### **Summary**"
   ]
  },
  {
   "cell_type": "markdown",
   "metadata": {},
   "source": [
    "- From data preparation we know that bad rate of our data is around 14%. \n",
    "- We can choose cutoff score to reduce the bad rate below 14%. \n",
    "- Thus, we can choose cutoff score at 190 with expected bad rate around 10% and expected approval rate around 75%."
   ]
  }
 ],
 "metadata": {
  "kernelspec": {
   "display_name": "Python 3",
   "language": "python",
   "name": "python3"
  },
  "language_info": {
   "codemirror_mode": {
    "name": "ipython",
    "version": 3
   },
   "file_extension": ".py",
   "mimetype": "text/x-python",
   "name": "python",
   "nbconvert_exporter": "python",
   "pygments_lexer": "ipython3",
   "version": "3.10.5"
  }
 },
 "nbformat": 4,
 "nbformat_minor": 2
}
